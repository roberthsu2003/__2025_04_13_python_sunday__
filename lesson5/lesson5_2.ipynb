{
 "cells": [
  {
   "cell_type": "markdown",
   "id": "fce1fd0c",
   "metadata": {},
   "source": [
    "### range(10)會傳出串列資料(Sequence data type)"
   ]
  },
  {
   "cell_type": "code",
   "execution_count": 4,
   "id": "aaf96da0",
   "metadata": {},
   "outputs": [
    {
     "data": {
      "text/plain": [
       "range(0, 5)"
      ]
     },
     "execution_count": 4,
     "metadata": {},
     "output_type": "execute_result"
    }
   ],
   "source": [
    "zero_to_nine:range = range(5)\n",
    "zero_to_nine"
   ]
  },
  {
   "cell_type": "code",
   "execution_count": 5,
   "id": "63d389e8",
   "metadata": {},
   "outputs": [
    {
     "name": "stdout",
     "output_type": "stream",
     "text": [
      "0\n",
      "1\n",
      "2\n",
      "3\n",
      "4\n"
     ]
    }
   ],
   "source": [
    "for ele in range(5):\n",
    "    print(ele)"
   ]
  },
  {
   "cell_type": "code",
   "execution_count": 6,
   "id": "4189266e",
   "metadata": {},
   "outputs": [
    {
     "name": "stdout",
     "output_type": "stream",
     "text": [
      "1\n",
      "2\n",
      "3\n",
      "4\n"
     ]
    }
   ],
   "source": [
    "for ele in range(1, 5):\n",
    "    print(ele)"
   ]
  },
  {
   "cell_type": "code",
   "execution_count": 7,
   "id": "726d7f50",
   "metadata": {},
   "outputs": [
    {
     "name": "stdout",
     "output_type": "stream",
     "text": [
      "1\n",
      "3\n",
      "5\n",
      "7\n",
      "9\n"
     ]
    }
   ],
   "source": [
    "for ele in range(1, 11, 2):\n",
    "    print(ele)"
   ]
  },
  {
   "cell_type": "code",
   "execution_count": 8,
   "id": "10280a84",
   "metadata": {},
   "outputs": [
    {
     "data": {
      "text/plain": [
       "55"
      ]
     },
     "execution_count": 8,
     "metadata": {},
     "output_type": "execute_result"
    }
   ],
   "source": [
    "#1~10的總數\n",
    "total = 0\n",
    "total += 1\n",
    "total += 2\n",
    "total += 3\n",
    "total += 4\n",
    "total += 5\n",
    "total += 6\n",
    "total += 7\n",
    "total += 8\n",
    "total += 9\n",
    "total += 10\n",
    "total"
   ]
  },
  {
   "cell_type": "markdown",
   "id": "8d44c2aa",
   "metadata": {},
   "source": [
    "### 如果明確知道執行的次數,請使用for in 迴圈"
   ]
  },
  {
   "cell_type": "code",
   "execution_count": null,
   "id": "f13df7e6",
   "metadata": {},
   "outputs": [
    {
     "name": "stdout",
     "output_type": "stream",
     "text": [
      "5050\n"
     ]
    }
   ],
   "source": [
    "\n",
    "total = 0\n",
    "for i in range(1,101):\n",
    "    total +=  i\n",
    "print(total)"
   ]
  }
 ],
 "metadata": {
  "kernelspec": {
   "display_name": "base",
   "language": "python",
   "name": "python3"
  },
  "language_info": {
   "codemirror_mode": {
    "name": "ipython",
    "version": 3
   },
   "file_extension": ".py",
   "mimetype": "text/x-python",
   "name": "python",
   "nbconvert_exporter": "python",
   "pygments_lexer": "ipython3",
   "version": "3.12.7"
  }
 },
 "nbformat": 4,
 "nbformat_minor": 5
}
