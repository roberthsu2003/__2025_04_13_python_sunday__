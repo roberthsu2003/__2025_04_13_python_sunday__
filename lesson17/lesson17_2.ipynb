{
 "cells": [
  {
   "cell_type": "markdown",
   "id": "13c873cf",
   "metadata": {},
   "source": [
    "https://www.perplexity.ai/search/8fd61408-570f-421c-9bc1-875b9f2a95df"
   ]
  },
  {
   "cell_type": "code",
   "execution_count": 2,
   "id": "e50165fc",
   "metadata": {},
   "outputs": [
    {
     "data": {
      "text/plain": [
       "0    板橋區\n",
       "1    中和區\n",
       "2    NaN\n",
       "3    土城區\n",
       "dtype: object"
      ]
     },
     "execution_count": 2,
     "metadata": {},
     "output_type": "execute_result"
    }
   ],
   "source": [
    "import numpy as np\n",
    "import pandas as pd\n",
    "string_data = pd.Series(['板橋區', '中和區', np.nan, '土城區'])\n",
    "string_data"
   ]
  },
  {
   "cell_type": "code",
   "execution_count": 3,
   "id": "b7bc6355",
   "metadata": {},
   "outputs": [
    {
     "data": {
      "text/plain": [
       "0    NaN\n",
       "1    中和區\n",
       "2    NaN\n",
       "3    土城區\n",
       "dtype: object"
      ]
     },
     "execution_count": 3,
     "metadata": {},
     "output_type": "execute_result"
    }
   ],
   "source": [
    "string_data[0] = np.nan\n",
    "string_data"
   ]
  },
  {
   "cell_type": "markdown",
   "id": "775e18cc",
   "metadata": {},
   "source": [
    "- isnull()\n",
    "- notnull()\n",
    "- fillna()\n",
    "- dropna()"
   ]
  },
  {
   "cell_type": "code",
   "execution_count": 4,
   "id": "81094fbd",
   "metadata": {},
   "outputs": [
    {
     "name": "stdout",
     "output_type": "stream",
     "text": [
      "<class 'pandas.core.series.Series'>\n",
      "RangeIndex: 4 entries, 0 to 3\n",
      "Series name: None\n",
      "Non-Null Count  Dtype \n",
      "--------------  ----- \n",
      "2 non-null      object\n",
      "dtypes: object(1)\n",
      "memory usage: 160.0+ bytes\n"
     ]
    }
   ],
   "source": [
    "string_data.info()"
   ]
  },
  {
   "cell_type": "code",
   "execution_count": 5,
   "id": "124a6b31",
   "metadata": {},
   "outputs": [
    {
     "data": {
      "text/plain": [
       "0     True\n",
       "1    False\n",
       "2     True\n",
       "3    False\n",
       "dtype: bool"
      ]
     },
     "execution_count": 5,
     "metadata": {},
     "output_type": "execute_result"
    }
   ],
   "source": [
    "string_data.isnull()"
   ]
  },
  {
   "cell_type": "code",
   "execution_count": 10,
   "id": "acc8e2dd",
   "metadata": {},
   "outputs": [
    {
     "data": {
      "text/plain": [
       "1    中和區\n",
       "3    土城區\n",
       "dtype: object"
      ]
     },
     "execution_count": 10,
     "metadata": {},
     "output_type": "execute_result"
    }
   ],
   "source": [
    "masked = string_data.notnull()\n",
    "string_data[masked]"
   ]
  },
  {
   "cell_type": "code",
   "execution_count": 8,
   "id": "6f4b461f",
   "metadata": {},
   "outputs": [
    {
     "data": {
      "text/plain": [
       "0    不知道\n",
       "1    中和區\n",
       "2    不知道\n",
       "3    土城區\n",
       "dtype: object"
      ]
     },
     "execution_count": 8,
     "metadata": {},
     "output_type": "execute_result"
    }
   ],
   "source": [
    "string_data.fillna(\"不知道\")"
   ]
  },
  {
   "cell_type": "code",
   "execution_count": 11,
   "id": "a4c5be87",
   "metadata": {},
   "outputs": [
    {
     "data": {
      "text/plain": [
       "1    中和區\n",
       "3    土城區\n",
       "dtype: object"
      ]
     },
     "execution_count": 11,
     "metadata": {},
     "output_type": "execute_result"
    }
   ],
   "source": [
    "string_data.dropna()"
   ]
  }
 ],
 "metadata": {
  "kernelspec": {
   "display_name": "sunday",
   "language": "python",
   "name": "python3"
  },
  "language_info": {
   "codemirror_mode": {
    "name": "ipython",
    "version": 3
   },
   "file_extension": ".py",
   "mimetype": "text/x-python",
   "name": "python",
   "nbconvert_exporter": "python",
   "pygments_lexer": "ipython3",
   "version": "3.10.16"
  }
 },
 "nbformat": 4,
 "nbformat_minor": 5
}
