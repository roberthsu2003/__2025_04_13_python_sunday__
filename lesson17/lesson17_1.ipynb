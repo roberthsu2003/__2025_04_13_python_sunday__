{
 "cells": [
  {
   "cell_type": "markdown",
   "id": "800aad6b",
   "metadata": {},
   "source": [
    "https://www.perplexity.ai/search/8fd61408-570f-421c-9bc1-875b9f2a95df"
   ]
  },
  {
   "cell_type": "code",
   "execution_count": null,
   "id": "4110fa3b",
   "metadata": {},
   "outputs": [],
   "source": [
    "import pandas as pd\n",
    "import tools as ts\n",
    "from tools import Student\n",
    "\n",
    "print(ts.PI)\n",
    "print(ts.func1(10, 20))\n",
    "stu1 = Student(\"robert\", 89, 95, 65)\n",
    "print(stu1.name)\n",
    "print(stu1.chinese)\n",
    "print(stu1.math)\n",
    "print(stu1.english)\n"
   ]
  },
  {
   "cell_type": "code",
   "execution_count": null,
   "id": "c04f664b",
   "metadata": {},
   "outputs": [],
   "source": [
    "import pandas as pd\n",
    "from pandas import DataFrame\n",
    "\n",
    "df:DataFrame = pd.read_csv(\"各鄉鎮市區人口密度.csv\")\n",
    "df\n"
   ]
  },
  {
   "cell_type": "code",
   "execution_count": 8,
   "id": "a3ff5f06",
   "metadata": {},
   "outputs": [
    {
     "name": "stdout",
     "output_type": "stream",
     "text": [
      "<class 'pandas.core.frame.DataFrame'>\n",
      "RangeIndex: 376 entries, 0 to 375\n",
      "Data columns (total 5 columns):\n",
      " #   Column              Non-Null Count  Dtype \n",
      "---  ------              --------------  ----- \n",
      " 0   statistic_yyy       371 non-null    object\n",
      " 1   site_id             375 non-null    object\n",
      " 2   people_total        371 non-null    object\n",
      " 3   area                371 non-null    object\n",
      " 4   population_density  371 non-null    object\n",
      "dtypes: object(5)\n",
      "memory usage: 14.8+ KB\n"
     ]
    }
   ],
   "source": [
    "df.info()"
   ]
  },
  {
   "cell_type": "code",
   "execution_count": 9,
   "id": "8ebec404",
   "metadata": {},
   "outputs": [
    {
     "data": {
      "text/plain": [
       "0                                                    區域別\n",
       "1                                                 新北市板橋區\n",
       "2                                                 新北市三重區\n",
       "3                                                 新北市中和區\n",
       "4                                                 新北市永和區\n",
       "                             ...                        \n",
       "371                                                  NaN\n",
       "372                             說明：1.人口密度係指每單位土地面積內之人口數。\n",
       "373    2.96年12月起，我國土地面積增列東沙群島(2.38平方公里)及南沙群島(0.4896平方公里)\n",
       "374             ，由高雄市代管；原金門縣烏坵鄉面積，因重測由2.6平方公里修正為1.2平方公里。\n",
       "375             3.104年12月南沙太平島交通基礎整建工程竣工，增加面積0.0149平方公里。\n",
       "Name: site_id, Length: 376, dtype: object"
      ]
     },
     "execution_count": 9,
     "metadata": {},
     "output_type": "execute_result"
    }
   ],
   "source": [
    "##選取欄\n",
    "df['site_id']"
   ]
  },
  {
   "cell_type": "code",
   "execution_count": 11,
   "id": "305778d8",
   "metadata": {},
   "outputs": [
    {
     "data": {
      "text/html": [
       "<div>\n",
       "<style scoped>\n",
       "    .dataframe tbody tr th:only-of-type {\n",
       "        vertical-align: middle;\n",
       "    }\n",
       "\n",
       "    .dataframe tbody tr th {\n",
       "        vertical-align: top;\n",
       "    }\n",
       "\n",
       "    .dataframe thead th {\n",
       "        text-align: right;\n",
       "    }\n",
       "</style>\n",
       "<table border=\"1\" class=\"dataframe\">\n",
       "  <thead>\n",
       "    <tr style=\"text-align: right;\">\n",
       "      <th></th>\n",
       "      <th>statistic_yyy</th>\n",
       "      <th>site_id</th>\n",
       "      <th>people_total</th>\n",
       "    </tr>\n",
       "  </thead>\n",
       "  <tbody>\n",
       "    <tr>\n",
       "      <th>0</th>\n",
       "      <td>統計年</td>\n",
       "      <td>區域別</td>\n",
       "      <td>年底人口數</td>\n",
       "    </tr>\n",
       "    <tr>\n",
       "      <th>1</th>\n",
       "      <td>106</td>\n",
       "      <td>新北市板橋區</td>\n",
       "      <td>551480</td>\n",
       "    </tr>\n",
       "    <tr>\n",
       "      <th>2</th>\n",
       "      <td>106</td>\n",
       "      <td>新北市三重區</td>\n",
       "      <td>387484</td>\n",
       "    </tr>\n",
       "    <tr>\n",
       "      <th>3</th>\n",
       "      <td>106</td>\n",
       "      <td>新北市中和區</td>\n",
       "      <td>413590</td>\n",
       "    </tr>\n",
       "    <tr>\n",
       "      <th>4</th>\n",
       "      <td>106</td>\n",
       "      <td>新北市永和區</td>\n",
       "      <td>222585</td>\n",
       "    </tr>\n",
       "  </tbody>\n",
       "</table>\n",
       "</div>"
      ],
      "text/plain": [
       "  statistic_yyy site_id people_total\n",
       "0           統計年     區域別        年底人口數\n",
       "1           106  新北市板橋區       551480\n",
       "2           106  新北市三重區       387484\n",
       "3           106  新北市中和區       413590\n",
       "4           106  新北市永和區       222585"
      ]
     },
     "execution_count": 11,
     "metadata": {},
     "output_type": "execute_result"
    }
   ],
   "source": [
    "## 選取列\n",
    "df.iloc[:5,:3]"
   ]
  },
  {
   "cell_type": "code",
   "execution_count": null,
   "id": "2e8f05c6",
   "metadata": {},
   "outputs": [
    {
     "data": {
      "text/html": [
       "<div>\n",
       "<style scoped>\n",
       "    .dataframe tbody tr th:only-of-type {\n",
       "        vertical-align: middle;\n",
       "    }\n",
       "\n",
       "    .dataframe tbody tr th {\n",
       "        vertical-align: top;\n",
       "    }\n",
       "\n",
       "    .dataframe thead th {\n",
       "        text-align: right;\n",
       "    }\n",
       "</style>\n",
       "<table border=\"1\" class=\"dataframe\">\n",
       "  <thead>\n",
       "    <tr style=\"text-align: right;\">\n",
       "      <th></th>\n",
       "      <th>statistic_yyy</th>\n",
       "      <th>site_id</th>\n",
       "      <th>people_total</th>\n",
       "      <th>area</th>\n",
       "      <th>population_density</th>\n",
       "    </tr>\n",
       "  </thead>\n",
       "  <tbody>\n",
       "    <tr>\n",
       "      <th>3</th>\n",
       "      <td>106</td>\n",
       "      <td>新北市中和區</td>\n",
       "      <td>413590</td>\n",
       "      <td>20.144</td>\n",
       "      <td>20532</td>\n",
       "    </tr>\n",
       "  </tbody>\n",
       "</table>\n",
       "</div>"
      ],
      "text/plain": [
       "  statistic_yyy site_id people_total    area population_density\n",
       "3           106  新北市中和區       413590  20.144              20532"
      ]
     },
     "execution_count": 15,
     "metadata": {},
     "output_type": "execute_result"
    }
   ],
   "source": [
    "## 透過值的選取(mask)\n",
    "masked = df['site_id'] == '新北市中和區'\n",
    "df[masked]"
   ]
  },
  {
   "cell_type": "code",
   "execution_count": 16,
   "id": "28fc829f",
   "metadata": {},
   "outputs": [
    {
     "data": {
      "text/html": [
       "<div>\n",
       "<style scoped>\n",
       "    .dataframe tbody tr th:only-of-type {\n",
       "        vertical-align: middle;\n",
       "    }\n",
       "\n",
       "    .dataframe tbody tr th {\n",
       "        vertical-align: top;\n",
       "    }\n",
       "\n",
       "    .dataframe thead th {\n",
       "        text-align: right;\n",
       "    }\n",
       "</style>\n",
       "<table border=\"1\" class=\"dataframe\">\n",
       "  <thead>\n",
       "    <tr style=\"text-align: right;\">\n",
       "      <th></th>\n",
       "      <th>statistic_yyy</th>\n",
       "      <th>site_id</th>\n",
       "      <th>people_total</th>\n",
       "      <th>area</th>\n",
       "      <th>population_density</th>\n",
       "    </tr>\n",
       "  </thead>\n",
       "  <tbody>\n",
       "    <tr>\n",
       "      <th>3</th>\n",
       "      <td>106</td>\n",
       "      <td>新北市中和區</td>\n",
       "      <td>413590</td>\n",
       "      <td>20.144</td>\n",
       "      <td>20532</td>\n",
       "    </tr>\n",
       "  </tbody>\n",
       "</table>\n",
       "</div>"
      ],
      "text/plain": [
       "  statistic_yyy site_id people_total    area population_density\n",
       "3           106  新北市中和區       413590  20.144              20532"
      ]
     },
     "execution_count": 16,
     "metadata": {},
     "output_type": "execute_result"
    }
   ],
   "source": [
    "## 透過query的選取\n",
    "df.query('site_id==\"新北市中和區\"')"
   ]
  }
 ],
 "metadata": {
  "kernelspec": {
   "display_name": "sunday",
   "language": "python",
   "name": "python3"
  },
  "language_info": {
   "codemirror_mode": {
    "name": "ipython",
    "version": 3
   },
   "file_extension": ".py",
   "mimetype": "text/x-python",
   "name": "python",
   "nbconvert_exporter": "python",
   "pygments_lexer": "ipython3",
   "version": "3.10.16"
  }
 },
 "nbformat": 4,
 "nbformat_minor": 5
}
