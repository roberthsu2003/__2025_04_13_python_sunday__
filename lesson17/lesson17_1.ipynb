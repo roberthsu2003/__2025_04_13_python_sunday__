{
 "cells": [
  {
   "cell_type": "markdown",
   "id": "800aad6b",
   "metadata": {},
   "source": [
    "https://www.perplexity.ai/search/8fd61408-570f-421c-9bc1-875b9f2a95df"
   ]
  },
  {
   "cell_type": "code",
   "execution_count": 4,
   "id": "4110fa3b",
   "metadata": {},
   "outputs": [
    {
     "name": "stdout",
     "output_type": "stream",
     "text": [
      "3.1415926\n",
      "30\n",
      "robert\n",
      "89\n",
      "95\n",
      "65\n"
     ]
    }
   ],
   "source": [
    "import pandas as pd\n",
    "import tools as ts\n",
    "from tools import Student\n",
    "\n",
    "print(ts.PI)\n",
    "print(ts.func1(10, 20))\n",
    "stu1 = Student(\"robert\", 89, 95, 65)\n",
    "print(stu1.name)\n",
    "print(stu1.chinese)\n",
    "print(stu1.math)\n",
    "print(stu1.english)\n"
   ]
  }
 ],
 "metadata": {
  "kernelspec": {
   "display_name": "sunday",
   "language": "python",
   "name": "python3"
  },
  "language_info": {
   "codemirror_mode": {
    "name": "ipython",
    "version": 3
   },
   "file_extension": ".py",
   "mimetype": "text/x-python",
   "name": "python",
   "nbconvert_exporter": "python",
   "pygments_lexer": "ipython3",
   "version": "3.10.16"
  }
 },
 "nbformat": 4,
 "nbformat_minor": 5
}
