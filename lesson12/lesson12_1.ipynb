{
 "cells": [
  {
   "cell_type": "code",
   "execution_count": 23,
   "id": "51479688",
   "metadata": {},
   "outputs": [
    {
     "name": "stdout",
     "output_type": "stream",
     "text": [
      "下載成功\n"
     ]
    }
   ],
   "source": [
    "import requests\n",
    "from requests import Response\n",
    "\n",
    "url:str = 'https://data.ntpc.gov.tw/api/datasets/010e5b15-3823-4b20-b401-b1cf000550c5/json?page=0&size=1000'\n",
    "response:Response = requests.get(url, timeout=5)\n",
    "if response.status_code == 200:\n",
    "    print(\"下載成功\")\n",
    "else:\n",
    "    print(\"下載失敗\")"
   ]
  },
  {
   "cell_type": "markdown",
   "id": "6decc21e",
   "metadata": {},
   "source": [
    "好的，以下是使用繁體中文的說明：\n",
    "\n",
    "在 Python 中，如果你想要從一個字串（`str`）建立一個類似檔案的物件，可以使用 `io` 模組裡的 `StringIO` 類別。它會建立一個「記憶體中的檔案物件」，這個物件可以像一般檔案一樣進行讀取、寫入和定位（seek）操作。\n",
    "\n",
    "範例程式碼如下：\n",
    "\n",
    "```python\n",
    "import io\n",
    "\n",
    "# 用字串建立一個檔案物件\n",
    "file_obj = io.StringIO(\"這是一段初始文字\")\n",
    "\n",
    "# 讀取內容\n",
    "print(file_obj.read())  # 輸出：這是一段初始文字\n",
    "\n",
    "# 將檔案指標移回開頭\n",
    "file_obj.seek(0)\n",
    "\n",
    "# 寫入更多文字\n",
    "file_obj.write(\"，這是後面新增的文字\")\n",
    "\n",
    "# 再次移回開頭，讀取整個內容\n",
    "file_obj.seek(0)\n",
    "print(file_obj.read())  # 輸出：這是一段初始文字，這是後面新增的文字\n",
    "```\n",
    "\n",
    "### 重點說明\n",
    "- `io.StringIO` 是用來處理文字（`str`）的檔案物件。\n",
    "- 如果是二進位資料（`bytes`），可以用 `io.BytesIO`。\n",
    "- 這種方式不會在硬碟建立實體檔案，而是在記憶體中模擬檔案行為。\n",
    "- 適合用在需要傳入檔案物件，但資料本身已經是字串的情況。\n",
    "\n",
    "\n"
   ]
  },
  {
   "cell_type": "markdown",
   "id": "21edcfbf",
   "metadata": {},
   "source": [
    "你已經有一個 CSV 格式的字串轉成的檔案物件（file-like object），想要將它轉成「list 裡面包含 dict」的格式，可以使用 Python 內建的 `csv.DictReader` 來達成。\n",
    "\n",
    "以下是示範程式碼：\n",
    "\n",
    "```python\n",
    "import io\n",
    "import csv\n",
    "\n",
    "# 假設你已經有一個 CSV 格式的字串\n",
    "csv_string = \"\"\"Name,Job,Age,Income\n",
    "Alice,Programmer,23,110000\n",
    "Bob,Executive,34,90000\n",
    "Carl,Sales,45,50000\n",
    "\"\"\"\n",
    "\n",
    "# 將字串轉成檔案物件\n",
    "file_obj = io.StringIO(csv_string)\n",
    "\n",
    "# 使用 csv.DictReader 讀取檔案物件\n",
    "reader = csv.DictReader(file_obj)\n",
    "\n",
    "# 將讀取結果轉成 list 裡面包含 dict\n",
    "list_of_dicts = list(reader)\n",
    "\n",
    "# 印出結果\n",
    "print(list_of_dicts)\n",
    "```\n",
    "\n",
    "輸出結果會是：\n",
    "\n",
    "```python\n",
    "[\n",
    "  {'Name': 'Alice', 'Job': 'Programmer', 'Age': '23', 'Income': '110000'},\n",
    "  {'Name': 'Bob', 'Job': 'Executive', 'Age': '34', 'Income': '90000'},\n",
    "  {'Name': 'Carl', 'Job': 'Sales', 'Age': '45', 'Income': '50000'}\n",
    "]\n",
    "```\n",
    "\n",
    "說明：\n",
    "- `csv.DictReader` 會自動將 CSV 第一行當作欄位名稱（key），後面的每一行資料轉成對應的字典（value）。\n",
    "- `list()` 將 `DictReader` 物件轉成清單，方便後續使用。\n",
    "- 這種方式適用於你已經有一個類似檔案的物件（例如 `io.StringIO` 建立的物件）[1][2][5][6]。\n",
    "\n",
    "\n"
   ]
  },
  {
   "cell_type": "code",
   "execution_count": 24,
   "id": "bda98521",
   "metadata": {},
   "outputs": [],
   "source": [
    "from pprint import pprint\n",
    "import io\n",
    "import csv\n",
    "\n",
    "file = io.StringIO(response.text)\n",
    "reader = csv.DictReader(file)\n",
    "for item in reader:\n",
    "    print(item)"
   ]
  }
 ],
 "metadata": {
  "kernelspec": {
   "display_name": "sunday",
   "language": "python",
   "name": "python3"
  },
  "language_info": {
   "codemirror_mode": {
    "name": "ipython",
    "version": 3
   },
   "file_extension": ".py",
   "mimetype": "text/x-python",
   "name": "python",
   "nbconvert_exporter": "python",
   "pygments_lexer": "ipython3",
   "version": "3.10.16"
  }
 },
 "nbformat": 4,
 "nbformat_minor": 5
}
