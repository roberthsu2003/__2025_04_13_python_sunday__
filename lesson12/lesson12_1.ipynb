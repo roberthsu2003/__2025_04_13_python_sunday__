{
 "cells": [
  {
   "cell_type": "code",
   "execution_count": 10,
   "id": "51479688",
   "metadata": {},
   "outputs": [
    {
     "name": "stdout",
     "output_type": "stream",
     "text": [
      "下載成功\n"
     ]
    }
   ],
   "source": [
    "import requests\n",
    "from requests import Response\n",
    "\n",
    "url:str = 'https://data.ntpc.gov.tw/api/datasets/010e5b15-3823-4b20-b401-b1cf000550c5/json?page=0&size=1000'\n",
    "response:Response = requests.get(url, timeout=5)\n",
    "if response.status_code == 200:\n",
    "    print(\"下載成功\")\n",
    "else:\n",
    "    print(\"下載失敗\")"
   ]
  },
  {
   "cell_type": "markdown",
   "id": "6decc21e",
   "metadata": {},
   "source": [
    "好的，以下是使用繁體中文的說明：\n",
    "\n",
    "在 Python 中，如果你想要從一個字串（`str`）建立一個類似檔案的物件，可以使用 `io` 模組裡的 `StringIO` 類別。它會建立一個「記憶體中的檔案物件」，這個物件可以像一般檔案一樣進行讀取、寫入和定位（seek）操作。\n",
    "\n",
    "範例程式碼如下：\n",
    "\n",
    "```python\n",
    "import io\n",
    "\n",
    "# 用字串建立一個檔案物件\n",
    "file_obj = io.StringIO(\"這是一段初始文字\")\n",
    "\n",
    "# 讀取內容\n",
    "print(file_obj.read())  # 輸出：這是一段初始文字\n",
    "\n",
    "# 將檔案指標移回開頭\n",
    "file_obj.seek(0)\n",
    "\n",
    "# 寫入更多文字\n",
    "file_obj.write(\"，這是後面新增的文字\")\n",
    "\n",
    "# 再次移回開頭，讀取整個內容\n",
    "file_obj.seek(0)\n",
    "print(file_obj.read())  # 輸出：這是一段初始文字，這是後面新增的文字\n",
    "```\n",
    "\n",
    "### 重點說明\n",
    "- `io.StringIO` 是用來處理文字（`str`）的檔案物件。\n",
    "- 如果是二進位資料（`bytes`），可以用 `io.BytesIO`。\n",
    "- 這種方式不會在硬碟建立實體檔案，而是在記憶體中模擬檔案行為。\n",
    "- 適合用在需要傳入檔案物件，但資料本身已經是字串的情況。\n",
    "\n",
    "\n"
   ]
  },
  {
   "cell_type": "code",
   "execution_count": 12,
   "id": "bda98521",
   "metadata": {},
   "outputs": [
    {
     "name": "stdout",
     "output_type": "stream",
     "text": [
      "<_io.StringIO object at 0x10e48a7a0>\n"
     ]
    }
   ],
   "source": [
    "from pprint import pprint\n",
    "import io\n",
    "\n",
    "file = io.StringIO(response.text)\n",
    "print(file)"
   ]
  }
 ],
 "metadata": {
  "kernelspec": {
   "display_name": "sunday",
   "language": "python",
   "name": "python3"
  },
  "language_info": {
   "codemirror_mode": {
    "name": "ipython",
    "version": 3
   },
   "file_extension": ".py",
   "mimetype": "text/x-python",
   "name": "python",
   "nbconvert_exporter": "python",
   "pygments_lexer": "ipython3",
   "version": "3.10.16"
  }
 },
 "nbformat": 4,
 "nbformat_minor": 5
}
