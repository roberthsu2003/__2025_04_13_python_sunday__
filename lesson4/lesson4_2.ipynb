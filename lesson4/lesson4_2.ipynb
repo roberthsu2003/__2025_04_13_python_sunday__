{
 "cells": [
  {
   "cell_type": "markdown",
   "id": "095a5794",
   "metadata": {},
   "source": [
    "### if->流程控制"
   ]
  },
  {
   "cell_type": "markdown",
   "id": "4b96e282",
   "metadata": {},
   "source": [
    "**單項選擇**"
   ]
  },
  {
   "cell_type": "code",
   "execution_count": 1,
   "id": "c44ff33c",
   "metadata": {},
   "outputs": [
    {
     "name": "stdout",
     "output_type": "stream",
     "text": [
      "這是單項選擇\n",
      "這是True的程式區塊\n"
     ]
    }
   ],
   "source": [
    "if True:\n",
    "    print(\"這是單項選擇\")\n",
    "    print(\"這是True的程式區塊\")"
   ]
  },
  {
   "cell_type": "markdown",
   "id": "75e55d24",
   "metadata": {},
   "source": [
    "**雙項選擇**"
   ]
  },
  {
   "cell_type": "code",
   "execution_count": 3,
   "id": "60e03532",
   "metadata": {},
   "outputs": [
    {
     "name": "stdout",
     "output_type": "stream",
     "text": [
      "這是雙項選擇\n",
      "這是False的程式區塊\n"
     ]
    }
   ],
   "source": [
    "if False:\n",
    "    print(\"這是雙項選擇\")\n",
    "    print(\"這是True的程式區塊\")\n",
    "else:\n",
    "    print(\"這是雙項選擇\")\n",
    "    print(\"這是False的程式區塊\")"
   ]
  },
  {
   "cell_type": "code",
   "execution_count": 6,
   "id": "2fc19a27",
   "metadata": {},
   "outputs": [
    {
     "data": {
      "text/plain": [
       "False"
      ]
     },
     "execution_count": 6,
     "metadata": {},
     "output_type": "execute_result"
    }
   ],
   "source": [
    "5 > 3\n",
    "20 == 20\n",
    "20 != 20"
   ]
  },
  {
   "cell_type": "code",
   "execution_count": 8,
   "id": "b6a26a39",
   "metadata": {},
   "outputs": [
    {
     "name": "stdout",
     "output_type": "stream",
     "text": [
      "成年\n"
     ]
    }
   ],
   "source": [
    "age = int(input(\"請輸入age:\"))\n",
    "if age < 18:\n",
    "    print(\"未成年\")\n",
    "else:\n",
    "    print(\"成年\")"
   ]
  },
  {
   "cell_type": "markdown",
   "id": "cc2fbf66",
   "metadata": {},
   "source": [
    "- 學生總分為300\n",
    "- 有些學生可以加分5%\n",
    "- 如果加分超過300,就以300分為準"
   ]
  },
  {
   "cell_type": "code",
   "execution_count": 13,
   "id": "59794bb9",
   "metadata": {},
   "outputs": [
    {
     "name": "stdout",
     "output_type": "stream",
     "text": [
      "學生分數是:300\n"
     ]
    }
   ],
   "source": [
    "scores = int(input(\"請輸入學生分數(最高300分):\"))\n",
    "is_add = input(\"學生是否符合加分條件?(y,n)\")\n",
    "if (is_add == \"y\"):\n",
    "    scores *= 1.05\n",
    "    if scores > 300:\n",
    "        scores = 300\n",
    "\n",
    "print(f\"學生分數是:{round(scores)}\")\n"
   ]
  },
  {
   "cell_type": "markdown",
   "id": "06bd3d11",
   "metadata": {},
   "source": [
    "**處理raise Exception**\n",
    "** try: except:處理錯誤"
   ]
  },
  {
   "cell_type": "code",
   "execution_count": 15,
   "id": "2a48ca52",
   "metadata": {},
   "outputs": [
    {
     "name": "stdout",
     "output_type": "stream",
     "text": [
      "發生錯誤\n"
     ]
    }
   ],
   "source": [
    "try:\n",
    "    25 / 0\n",
    "except:\n",
    "    print(\"發生錯誤\")"
   ]
  },
  {
   "cell_type": "code",
   "execution_count": 18,
   "id": "edb6419b",
   "metadata": {},
   "outputs": [
    {
     "name": "stdout",
     "output_type": "stream",
     "text": [
      "發生錯誤\n",
      "程式結束\n"
     ]
    }
   ],
   "source": [
    "divitionBy = 0\n",
    "try:\n",
    "    print(25 / divitionBy)\n",
    "except:\n",
    "    print(\"發生錯誤\")\n",
    "\n",
    "print(\"程式結束\")\n"
   ]
  },
  {
   "cell_type": "markdown",
   "id": "456c3998",
   "metadata": {},
   "source": [
    "**多個except**"
   ]
  },
  {
   "cell_type": "code",
   "execution_count": null,
   "id": "7a7fb454",
   "metadata": {},
   "outputs": [
    {
     "name": "stdout",
     "output_type": "stream",
     "text": [
      "發生不知名的錯誤\n",
      "程式結束\n"
     ]
    }
   ],
   "source": [
    "divitionBy = 0\n",
    "try:\n",
    "    print(30 / \"10\")\n",
    "    print(25 / divitionBy)\n",
    "except ZeroDivisionError:\n",
    "    print(\"除數不可以是0\")\n",
    "except:\n",
    "    print(\"發生不知名的錯誤\")\n",
    "\n",
    "print(\"程式結束\")"
   ]
  },
  {
   "cell_type": "code",
   "execution_count": 22,
   "id": "03980c15",
   "metadata": {},
   "outputs": [
    {
     "name": "stdout",
     "output_type": "stream",
     "text": [
      "發生不知名錯誤!\n",
      "應用程式結束\n"
     ]
    }
   ],
   "source": [
    "try:\n",
    "    scores = int(input(\"請輸入學生分數(最高300分):\"))\n",
    "    is_add = input(\"學生是否符合加分條件?(y,n)\")\n",
    "    if (is_add == \"y\"):\n",
    "        scores *= 1.05\n",
    "        if scores > 300:\n",
    "            scores = 300\n",
    "\n",
    "    print(f\"學生分數是:{round(scores)}\")\n",
    "except:\n",
    "    print(\"發生不知名錯誤!\")\n",
    "print(\"應用程式結束\")"
   ]
  }
 ],
 "metadata": {
  "kernelspec": {
   "display_name": "base",
   "language": "python",
   "name": "python3"
  },
  "language_info": {
   "codemirror_mode": {
    "name": "ipython",
    "version": 3
   },
   "file_extension": ".py",
   "mimetype": "text/x-python",
   "name": "python",
   "nbconvert_exporter": "python",
   "pygments_lexer": "ipython3",
   "version": "3.12.7"
  }
 },
 "nbformat": 4,
 "nbformat_minor": 5
}
