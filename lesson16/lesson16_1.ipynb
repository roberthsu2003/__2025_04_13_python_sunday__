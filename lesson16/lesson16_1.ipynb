{
 "cells": [
  {
   "cell_type": "markdown",
   "id": "50f96616",
   "metadata": {},
   "source": [
    "### DataFrame的操作\n",
    "\n",
    "https://www.perplexity.ai/search/c9eb03d9-5681-4f6c-956d-6764ee19c80a"
   ]
  },
  {
   "cell_type": "code",
   "execution_count": null,
   "id": "dd31b3bf",
   "metadata": {},
   "outputs": [],
   "source": [
    "import numpy as np\n",
    "import pandas as pd\n",
    "from pandas import Series,DataFrame\n",
    "\n",
    "np.random.seed(42)\n",
    "scores = np.random.randint(50, 101,(50,5))\n",
    "df1:DataFrame = pd.DataFrame(scores,\n",
    "             index=[f'學號{i}' for i in range(1,51)],\n",
    "             columns=[\"國文\",\"英文\",\"數學\",\"歷史\",\"生物\"])\n",
    "df1"
   ]
  },
  {
   "cell_type": "code",
   "execution_count": null,
   "id": "2fa241fc",
   "metadata": {},
   "outputs": [],
   "source": [
    "#選取1欄\n",
    "df1['國文']\n",
    "df1['英文']"
   ]
  },
  {
   "cell_type": "code",
   "execution_count": null,
   "id": "14cf980f",
   "metadata": {},
   "outputs": [],
   "source": [
    "#選取多欄\n",
    "#df[list]\n",
    "\n",
    "df1[['國文','英文']]"
   ]
  },
  {
   "cell_type": "markdown",
   "id": "f66047b3",
   "metadata": {},
   "source": [
    "### 列的選取\n",
    "- df.iloc[](是基於整數位置索引)\n",
    "- df.loc[](依標籤選取欄位)"
   ]
  },
  {
   "cell_type": "code",
   "execution_count": 7,
   "id": "897e5e82",
   "metadata": {},
   "outputs": [
    {
     "data": {
      "text/plain": [
       "國文    88\n",
       "英文    78\n",
       "數學    64\n",
       "歷史    92\n",
       "生物    57\n",
       "Name: 學號1, dtype: int64"
      ]
     },
     "execution_count": 7,
     "metadata": {},
     "output_type": "execute_result"
    }
   ],
   "source": [
    "###loc[]的選取\n",
    "\n",
    "df1.loc['學號1']"
   ]
  },
  {
   "cell_type": "code",
   "execution_count": 8,
   "id": "905ec27b",
   "metadata": {},
   "outputs": [
    {
     "data": {
      "text/html": [
       "<div>\n",
       "<style scoped>\n",
       "    .dataframe tbody tr th:only-of-type {\n",
       "        vertical-align: middle;\n",
       "    }\n",
       "\n",
       "    .dataframe tbody tr th {\n",
       "        vertical-align: top;\n",
       "    }\n",
       "\n",
       "    .dataframe thead th {\n",
       "        text-align: right;\n",
       "    }\n",
       "</style>\n",
       "<table border=\"1\" class=\"dataframe\">\n",
       "  <thead>\n",
       "    <tr style=\"text-align: right;\">\n",
       "      <th></th>\n",
       "      <th>國文</th>\n",
       "      <th>英文</th>\n",
       "      <th>數學</th>\n",
       "      <th>歷史</th>\n",
       "      <th>生物</th>\n",
       "    </tr>\n",
       "  </thead>\n",
       "  <tbody>\n",
       "    <tr>\n",
       "      <th>學號1</th>\n",
       "      <td>88</td>\n",
       "      <td>78</td>\n",
       "      <td>64</td>\n",
       "      <td>92</td>\n",
       "      <td>57</td>\n",
       "    </tr>\n",
       "    <tr>\n",
       "      <th>學號25</th>\n",
       "      <td>56</td>\n",
       "      <td>58</td>\n",
       "      <td>57</td>\n",
       "      <td>61</td>\n",
       "      <td>83</td>\n",
       "    </tr>\n",
       "  </tbody>\n",
       "</table>\n",
       "</div>"
      ],
      "text/plain": [
       "      國文  英文  數學  歷史  生物\n",
       "學號1   88  78  64  92  57\n",
       "學號25  56  58  57  61  83"
      ]
     },
     "execution_count": 8,
     "metadata": {},
     "output_type": "execute_result"
    }
   ],
   "source": [
    "df1.loc[['學號1','學號25']]"
   ]
  },
  {
   "cell_type": "code",
   "execution_count": 9,
   "id": "1623846a",
   "metadata": {},
   "outputs": [
    {
     "data": {
      "text/plain": [
       "國文    88\n",
       "英文    78\n",
       "數學    64\n",
       "歷史    92\n",
       "生物    57\n",
       "Name: 學號1, dtype: int64"
      ]
     },
     "execution_count": 9,
     "metadata": {},
     "output_type": "execute_result"
    }
   ],
   "source": [
    "#iloc[]的選取\n",
    "df1.iloc[0]"
   ]
  },
  {
   "cell_type": "code",
   "execution_count": 10,
   "id": "409b1833",
   "metadata": {},
   "outputs": [
    {
     "data": {
      "text/html": [
       "<div>\n",
       "<style scoped>\n",
       "    .dataframe tbody tr th:only-of-type {\n",
       "        vertical-align: middle;\n",
       "    }\n",
       "\n",
       "    .dataframe tbody tr th {\n",
       "        vertical-align: top;\n",
       "    }\n",
       "\n",
       "    .dataframe thead th {\n",
       "        text-align: right;\n",
       "    }\n",
       "</style>\n",
       "<table border=\"1\" class=\"dataframe\">\n",
       "  <thead>\n",
       "    <tr style=\"text-align: right;\">\n",
       "      <th></th>\n",
       "      <th>國文</th>\n",
       "      <th>英文</th>\n",
       "      <th>數學</th>\n",
       "      <th>歷史</th>\n",
       "      <th>生物</th>\n",
       "    </tr>\n",
       "  </thead>\n",
       "  <tbody>\n",
       "    <tr>\n",
       "      <th>學號1</th>\n",
       "      <td>88</td>\n",
       "      <td>78</td>\n",
       "      <td>64</td>\n",
       "      <td>92</td>\n",
       "      <td>57</td>\n",
       "    </tr>\n",
       "    <tr>\n",
       "      <th>學號25</th>\n",
       "      <td>56</td>\n",
       "      <td>58</td>\n",
       "      <td>57</td>\n",
       "      <td>61</td>\n",
       "      <td>83</td>\n",
       "    </tr>\n",
       "  </tbody>\n",
       "</table>\n",
       "</div>"
      ],
      "text/plain": [
       "      國文  英文  數學  歷史  生物\n",
       "學號1   88  78  64  92  57\n",
       "學號25  56  58  57  61  83"
      ]
     },
     "execution_count": 10,
     "metadata": {},
     "output_type": "execute_result"
    }
   ],
   "source": [
    "df1.iloc[[0,24]]"
   ]
  },
  {
   "cell_type": "code",
   "execution_count": null,
   "id": "b827e398",
   "metadata": {},
   "outputs": [
    {
     "data": {
      "text/html": [
       "<div>\n",
       "<style scoped>\n",
       "    .dataframe tbody tr th:only-of-type {\n",
       "        vertical-align: middle;\n",
       "    }\n",
       "\n",
       "    .dataframe tbody tr th {\n",
       "        vertical-align: top;\n",
       "    }\n",
       "\n",
       "    .dataframe thead th {\n",
       "        text-align: right;\n",
       "    }\n",
       "</style>\n",
       "<table border=\"1\" class=\"dataframe\">\n",
       "  <thead>\n",
       "    <tr style=\"text-align: right;\">\n",
       "      <th></th>\n",
       "      <th>國文</th>\n",
       "      <th>英文</th>\n",
       "      <th>數學</th>\n",
       "      <th>歷史</th>\n",
       "      <th>生物</th>\n",
       "    </tr>\n",
       "  </thead>\n",
       "  <tbody>\n",
       "    <tr>\n",
       "      <th>學號1</th>\n",
       "      <td>88</td>\n",
       "      <td>78</td>\n",
       "      <td>64</td>\n",
       "      <td>92</td>\n",
       "      <td>57</td>\n",
       "    </tr>\n",
       "    <tr>\n",
       "      <th>學號2</th>\n",
       "      <td>70</td>\n",
       "      <td>88</td>\n",
       "      <td>68</td>\n",
       "      <td>72</td>\n",
       "      <td>60</td>\n",
       "    </tr>\n",
       "    <tr>\n",
       "      <th>學號3</th>\n",
       "      <td>60</td>\n",
       "      <td>73</td>\n",
       "      <td>85</td>\n",
       "      <td>89</td>\n",
       "      <td>73</td>\n",
       "    </tr>\n",
       "    <tr>\n",
       "      <th>學號4</th>\n",
       "      <td>52</td>\n",
       "      <td>71</td>\n",
       "      <td>51</td>\n",
       "      <td>73</td>\n",
       "      <td>93</td>\n",
       "    </tr>\n",
       "    <tr>\n",
       "      <th>學號5</th>\n",
       "      <td>79</td>\n",
       "      <td>87</td>\n",
       "      <td>51</td>\n",
       "      <td>70</td>\n",
       "      <td>82</td>\n",
       "    </tr>\n",
       "  </tbody>\n",
       "</table>\n",
       "</div>"
      ],
      "text/plain": [
       "     國文  英文  數學  歷史  生物\n",
       "學號1  88  78  64  92  57\n",
       "學號2  70  88  68  72  60\n",
       "學號3  60  73  85  89  73\n",
       "學號4  52  71  51  73  93\n",
       "學號5  79  87  51  70  82"
      ]
     },
     "execution_count": 11,
     "metadata": {},
     "output_type": "execute_result"
    }
   ],
   "source": [
    "df1.iloc[:5]"
   ]
  },
  {
   "cell_type": "code",
   "execution_count": 13,
   "id": "5f91c2f1",
   "metadata": {},
   "outputs": [
    {
     "data": {
      "text/html": [
       "<div>\n",
       "<style scoped>\n",
       "    .dataframe tbody tr th:only-of-type {\n",
       "        vertical-align: middle;\n",
       "    }\n",
       "\n",
       "    .dataframe tbody tr th {\n",
       "        vertical-align: top;\n",
       "    }\n",
       "\n",
       "    .dataframe thead th {\n",
       "        text-align: right;\n",
       "    }\n",
       "</style>\n",
       "<table border=\"1\" class=\"dataframe\">\n",
       "  <thead>\n",
       "    <tr style=\"text-align: right;\">\n",
       "      <th></th>\n",
       "      <th>國文</th>\n",
       "      <th>英文</th>\n",
       "      <th>數學</th>\n",
       "    </tr>\n",
       "  </thead>\n",
       "  <tbody>\n",
       "    <tr>\n",
       "      <th>學號1</th>\n",
       "      <td>88</td>\n",
       "      <td>78</td>\n",
       "      <td>64</td>\n",
       "    </tr>\n",
       "    <tr>\n",
       "      <th>學號2</th>\n",
       "      <td>70</td>\n",
       "      <td>88</td>\n",
       "      <td>68</td>\n",
       "    </tr>\n",
       "    <tr>\n",
       "      <th>學號3</th>\n",
       "      <td>60</td>\n",
       "      <td>73</td>\n",
       "      <td>85</td>\n",
       "    </tr>\n",
       "    <tr>\n",
       "      <th>學號4</th>\n",
       "      <td>52</td>\n",
       "      <td>71</td>\n",
       "      <td>51</td>\n",
       "    </tr>\n",
       "    <tr>\n",
       "      <th>學號5</th>\n",
       "      <td>79</td>\n",
       "      <td>87</td>\n",
       "      <td>51</td>\n",
       "    </tr>\n",
       "  </tbody>\n",
       "</table>\n",
       "</div>"
      ],
      "text/plain": [
       "     國文  英文  數學\n",
       "學號1  88  78  64\n",
       "學號2  70  88  68\n",
       "學號3  60  73  85\n",
       "學號4  52  71  51\n",
       "學號5  79  87  51"
      ]
     },
     "execution_count": 13,
     "metadata": {},
     "output_type": "execute_result"
    }
   ],
   "source": [
    "#iloc[列,欄],先選列,再選欄\n",
    "df1.iloc[:5,[0,1,2]]"
   ]
  },
  {
   "cell_type": "code",
   "execution_count": 14,
   "id": "75878d33",
   "metadata": {},
   "outputs": [
    {
     "data": {
      "text/html": [
       "<div>\n",
       "<style scoped>\n",
       "    .dataframe tbody tr th:only-of-type {\n",
       "        vertical-align: middle;\n",
       "    }\n",
       "\n",
       "    .dataframe tbody tr th {\n",
       "        vertical-align: top;\n",
       "    }\n",
       "\n",
       "    .dataframe thead th {\n",
       "        text-align: right;\n",
       "    }\n",
       "</style>\n",
       "<table border=\"1\" class=\"dataframe\">\n",
       "  <thead>\n",
       "    <tr style=\"text-align: right;\">\n",
       "      <th></th>\n",
       "      <th>國文</th>\n",
       "      <th>英文</th>\n",
       "      <th>數學</th>\n",
       "    </tr>\n",
       "  </thead>\n",
       "  <tbody>\n",
       "    <tr>\n",
       "      <th>學號1</th>\n",
       "      <td>88</td>\n",
       "      <td>78</td>\n",
       "      <td>64</td>\n",
       "    </tr>\n",
       "    <tr>\n",
       "      <th>學號2</th>\n",
       "      <td>70</td>\n",
       "      <td>88</td>\n",
       "      <td>68</td>\n",
       "    </tr>\n",
       "    <tr>\n",
       "      <th>學號3</th>\n",
       "      <td>60</td>\n",
       "      <td>73</td>\n",
       "      <td>85</td>\n",
       "    </tr>\n",
       "    <tr>\n",
       "      <th>學號4</th>\n",
       "      <td>52</td>\n",
       "      <td>71</td>\n",
       "      <td>51</td>\n",
       "    </tr>\n",
       "    <tr>\n",
       "      <th>學號5</th>\n",
       "      <td>79</td>\n",
       "      <td>87</td>\n",
       "      <td>51</td>\n",
       "    </tr>\n",
       "  </tbody>\n",
       "</table>\n",
       "</div>"
      ],
      "text/plain": [
       "     國文  英文  數學\n",
       "學號1  88  78  64\n",
       "學號2  70  88  68\n",
       "學號3  60  73  85\n",
       "學號4  52  71  51\n",
       "學號5  79  87  51"
      ]
     },
     "execution_count": 14,
     "metadata": {},
     "output_type": "execute_result"
    }
   ],
   "source": [
    "#iloc[列,欄],先選列,再選欄\n",
    "df1.iloc[:5,:3]"
   ]
  }
 ],
 "metadata": {
  "kernelspec": {
   "display_name": "sunday",
   "language": "python",
   "name": "python3"
  },
  "language_info": {
   "codemirror_mode": {
    "name": "ipython",
    "version": 3
   },
   "file_extension": ".py",
   "mimetype": "text/x-python",
   "name": "python",
   "nbconvert_exporter": "python",
   "pygments_lexer": "ipython3",
   "version": "3.10.16"
  }
 },
 "nbformat": 4,
 "nbformat_minor": 5
}
