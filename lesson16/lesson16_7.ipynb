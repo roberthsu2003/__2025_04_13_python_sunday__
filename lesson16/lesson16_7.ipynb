{
 "cells": [
  {
   "cell_type": "markdown",
   "id": "19a83f33",
   "metadata": {},
   "source": [
    "https://www.perplexity.ai/search/224a180b-342f-4bcd-adce-643351daee12"
   ]
  },
  {
   "cell_type": "code",
   "execution_count": 1,
   "id": "7cdcf357",
   "metadata": {},
   "outputs": [
    {
     "name": "stdout",
     "output_type": "stream",
     "text": [
      "<class 'pandas.core.frame.DataFrame'>\n",
      "RangeIndex: 187885 entries, 0 to 187884\n",
      "Data columns (total 33 columns):\n",
      " #   Column          Non-Null Count   Dtype  \n",
      "---  ------          --------------   -----  \n",
      " 0   ID              187885 non-null  int64  \n",
      " 1   iso_code        187885 non-null  object \n",
      " 2   洲名              187885 non-null  object \n",
      " 3   國家              187885 non-null  object \n",
      " 4   日期              187885 non-null  object \n",
      " 5   總確診數            187885 non-null  int64  \n",
      " 6   新增確診數           187885 non-null  int64  \n",
      " 7   七天移動平均新增確診數     187885 non-null  float64\n",
      " 8   總死亡數            187885 non-null  int64  \n",
      " 9   新增死亡數           187885 non-null  int64  \n",
      " 10  七天移動平均新增死亡數     187885 non-null  float64\n",
      " 11  每百萬人確診數         187885 non-null  float64\n",
      " 12  每百萬人死亡數         187885 non-null  float64\n",
      " 13  傳染率             187885 non-null  float64\n",
      " 14  新增檢驗件數          187885 non-null  int64  \n",
      " 15  總檢驗件數           187885 non-null  int64  \n",
      " 16  每千人檢驗件數         187885 non-null  float64\n",
      " 17  七天移動平均新增檢驗件數    187885 non-null  float64\n",
      " 18  陽性率             187885 non-null  float64\n",
      " 19  每確診案例相對檢驗數量     187885 non-null  float64\n",
      " 20  疫苗總接種總劑數        187885 non-null  int64  \n",
      " 21  疫苗總接種人數         187885 non-null  int64  \n",
      " 22  疫苗新增接種劑數        187885 non-null  int64  \n",
      " 23  七天移動平均疫苗新增接種劑數  187885 non-null  float64\n",
      " 24  每百人接種疫苗劑數       187885 non-null  float64\n",
      " 25  每百人接種疫苗人數       187885 non-null  float64\n",
      " 26  疫情控管指數          187885 non-null  float64\n",
      " 27  總人口數            187885 non-null  int64  \n",
      " 28  中位數年紀           187885 non-null  float64\n",
      " 29  70歲以上人口比例       187885 non-null  float64\n",
      " 30  平均壽命            187885 non-null  float64\n",
      " 31  解除隔離數           187885 non-null  int64  \n",
      " 32  解封指數            187885 non-null  float64\n",
      "dtypes: float64(17), int64(12), object(4)\n",
      "memory usage: 47.3+ MB\n"
     ]
    }
   ],
   "source": [
    "import numpy as np\n",
    "import pandas as pd\n",
    "\n",
    "df = pd.read_csv('world.csv')\n",
    "df.info()"
   ]
  },
  {
   "cell_type": "code",
   "execution_count": 2,
   "id": "96ea47e4",
   "metadata": {},
   "outputs": [
    {
     "data": {
      "text/html": [
       "<div>\n",
       "<style scoped>\n",
       "    .dataframe tbody tr th:only-of-type {\n",
       "        vertical-align: middle;\n",
       "    }\n",
       "\n",
       "    .dataframe tbody tr th {\n",
       "        vertical-align: top;\n",
       "    }\n",
       "\n",
       "    .dataframe thead th {\n",
       "        text-align: right;\n",
       "    }\n",
       "</style>\n",
       "<table border=\"1\" class=\"dataframe\">\n",
       "  <thead>\n",
       "    <tr style=\"text-align: right;\">\n",
       "      <th></th>\n",
       "      <th>洲名</th>\n",
       "      <th>國家</th>\n",
       "      <th>日期</th>\n",
       "      <th>總確診數</th>\n",
       "      <th>新增確診數</th>\n",
       "      <th>總人口數</th>\n",
       "      <th>解封指數</th>\n",
       "    </tr>\n",
       "  </thead>\n",
       "  <tbody>\n",
       "    <tr>\n",
       "      <th>0</th>\n",
       "      <td>亞洲</td>\n",
       "      <td>阿富汗</td>\n",
       "      <td>2020-02-24</td>\n",
       "      <td>5</td>\n",
       "      <td>5</td>\n",
       "      <td>39835428</td>\n",
       "      <td>99999.0</td>\n",
       "    </tr>\n",
       "    <tr>\n",
       "      <th>1</th>\n",
       "      <td>亞洲</td>\n",
       "      <td>阿富汗</td>\n",
       "      <td>2020-02-25</td>\n",
       "      <td>5</td>\n",
       "      <td>0</td>\n",
       "      <td>39835428</td>\n",
       "      <td>99999.0</td>\n",
       "    </tr>\n",
       "    <tr>\n",
       "      <th>2</th>\n",
       "      <td>亞洲</td>\n",
       "      <td>阿富汗</td>\n",
       "      <td>2020-02-26</td>\n",
       "      <td>5</td>\n",
       "      <td>0</td>\n",
       "      <td>39835428</td>\n",
       "      <td>99999.0</td>\n",
       "    </tr>\n",
       "    <tr>\n",
       "      <th>3</th>\n",
       "      <td>亞洲</td>\n",
       "      <td>阿富汗</td>\n",
       "      <td>2020-02-27</td>\n",
       "      <td>5</td>\n",
       "      <td>0</td>\n",
       "      <td>39835428</td>\n",
       "      <td>99999.0</td>\n",
       "    </tr>\n",
       "    <tr>\n",
       "      <th>4</th>\n",
       "      <td>亞洲</td>\n",
       "      <td>阿富汗</td>\n",
       "      <td>2020-02-28</td>\n",
       "      <td>5</td>\n",
       "      <td>0</td>\n",
       "      <td>39835428</td>\n",
       "      <td>99999.0</td>\n",
       "    </tr>\n",
       "    <tr>\n",
       "      <th>...</th>\n",
       "      <td>...</td>\n",
       "      <td>...</td>\n",
       "      <td>...</td>\n",
       "      <td>...</td>\n",
       "      <td>...</td>\n",
       "      <td>...</td>\n",
       "      <td>...</td>\n",
       "    </tr>\n",
       "    <tr>\n",
       "      <th>187880</th>\n",
       "      <td>非洲</td>\n",
       "      <td>辛巴威</td>\n",
       "      <td>2022-07-02</td>\n",
       "      <td>255586</td>\n",
       "      <td>0</td>\n",
       "      <td>15092171</td>\n",
       "      <td>99999.0</td>\n",
       "    </tr>\n",
       "    <tr>\n",
       "      <th>187881</th>\n",
       "      <td>非洲</td>\n",
       "      <td>辛巴威</td>\n",
       "      <td>2022-07-03</td>\n",
       "      <td>255586</td>\n",
       "      <td>0</td>\n",
       "      <td>15092171</td>\n",
       "      <td>99999.0</td>\n",
       "    </tr>\n",
       "    <tr>\n",
       "      <th>187882</th>\n",
       "      <td>非洲</td>\n",
       "      <td>辛巴威</td>\n",
       "      <td>2022-07-04</td>\n",
       "      <td>255726</td>\n",
       "      <td>140</td>\n",
       "      <td>15092171</td>\n",
       "      <td>99999.0</td>\n",
       "    </tr>\n",
       "    <tr>\n",
       "      <th>187883</th>\n",
       "      <td>非洲</td>\n",
       "      <td>辛巴威</td>\n",
       "      <td>2022-07-05</td>\n",
       "      <td>255755</td>\n",
       "      <td>29</td>\n",
       "      <td>15092171</td>\n",
       "      <td>99999.0</td>\n",
       "    </tr>\n",
       "    <tr>\n",
       "      <th>187884</th>\n",
       "      <td>非洲</td>\n",
       "      <td>辛巴威</td>\n",
       "      <td>2022-07-06</td>\n",
       "      <td>255805</td>\n",
       "      <td>50</td>\n",
       "      <td>15092171</td>\n",
       "      <td>99999.0</td>\n",
       "    </tr>\n",
       "  </tbody>\n",
       "</table>\n",
       "<p>187885 rows × 7 columns</p>\n",
       "</div>"
      ],
      "text/plain": [
       "        洲名   國家          日期    總確診數  新增確診數      總人口數     解封指數\n",
       "0       亞洲  阿富汗  2020-02-24       5      5  39835428  99999.0\n",
       "1       亞洲  阿富汗  2020-02-25       5      0  39835428  99999.0\n",
       "2       亞洲  阿富汗  2020-02-26       5      0  39835428  99999.0\n",
       "3       亞洲  阿富汗  2020-02-27       5      0  39835428  99999.0\n",
       "4       亞洲  阿富汗  2020-02-28       5      0  39835428  99999.0\n",
       "...     ..  ...         ...     ...    ...       ...      ...\n",
       "187880  非洲  辛巴威  2022-07-02  255586      0  15092171  99999.0\n",
       "187881  非洲  辛巴威  2022-07-03  255586      0  15092171  99999.0\n",
       "187882  非洲  辛巴威  2022-07-04  255726    140  15092171  99999.0\n",
       "187883  非洲  辛巴威  2022-07-05  255755     29  15092171  99999.0\n",
       "187884  非洲  辛巴威  2022-07-06  255805     50  15092171  99999.0\n",
       "\n",
       "[187885 rows x 7 columns]"
      ]
     },
     "execution_count": 2,
     "metadata": {},
     "output_type": "execute_result"
    }
   ],
   "source": [
    "allDataFrame = df.reindex(columns=['洲名','國家','日期','總確診數','新增確診數','總人口數','解封指數'])\n",
    "allDataFrame"
   ]
  },
  {
   "cell_type": "code",
   "execution_count": 3,
   "id": "cf46b59b",
   "metadata": {},
   "outputs": [
    {
     "name": "stdout",
     "output_type": "stream",
     "text": [
      "<class 'pandas.core.frame.DataFrame'>\n",
      "Index: 903 entries, 163986 to 164888\n",
      "Data columns (total 7 columns):\n",
      " #   Column  Non-Null Count  Dtype  \n",
      "---  ------  --------------  -----  \n",
      " 0   洲名      903 non-null    object \n",
      " 1   國家      903 non-null    object \n",
      " 2   日期      903 non-null    object \n",
      " 3   總確診數    903 non-null    int64  \n",
      " 4   新增確診數   903 non-null    int64  \n",
      " 5   總人口數    903 non-null    int64  \n",
      " 6   解封指數    903 non-null    float64\n",
      "dtypes: float64(1), int64(3), object(3)\n",
      "memory usage: 56.4+ KB\n"
     ]
    }
   ],
   "source": [
    "country_mask = allDataFrame['國家'] == '台灣'\n",
    "taiwan_df = allDataFrame[country_mask]\n",
    "taiwan_df.info()"
   ]
  },
  {
   "cell_type": "markdown",
   "id": "e6438d75",
   "metadata": {},
   "source": [
    "### 搜尋的方法query(字串)"
   ]
  },
  {
   "cell_type": "code",
   "execution_count": null,
   "id": "ccdb7971",
   "metadata": {},
   "outputs": [],
   "source": [
    "taiwan_df = allDataFrame.query('國家==\"台灣\"')\n",
    "japan_df = allDataFrame.query('國家==\"日本\"')\n",
    "\n",
    "taiwan1_df = taiwan_df.query('日期>=\"2020-01-16\" and 日期<=\"2022-07-06\"')\n",
    "japan1_df = japan_df.query('日期>=\"2020-01-16\" and 日期<=\"2022-07-06\"')"
   ]
  },
  {
   "cell_type": "code",
   "execution_count": 25,
   "id": "c6c993fd",
   "metadata": {},
   "outputs": [
    {
     "data": {
      "image/png": "[encoded data removed]",
      "text/plain": [
       "<Figure size 1200x800 with 1 Axes>"
      ]
     },
     "metadata": {},
     "output_type": "display_data"
    }
   ],
   "source": [
    "import matplotlib.pyplot as plt\n",
    "import matplotlib as mpl\n",
    "from matplotlib.font_manager import fontManager\n",
    "\n",
    "fontManager.addfont(\"ChineseFont.ttf\")\n",
    "mpl.rc('font',family='ChineseFont')\n",
    "plt.figure(figsize=(12,8))\n",
    "plt.plot(pd.to_datetime(taiwan1_df['日期']),taiwan1_df['總確診數'])\n",
    "plt.plot(pd.to_datetime(japan1_df['日期']),japan1_df['總確診數'])\n",
    "plt.gca().ticklabel_format(style='plain', axis='y')\n",
    "plt.xlabel('日期')\n",
    "plt.ylabel('總確診數')\n",
    "plt.show()"
   ]
  },
  {
   "cell_type": "code",
   "execution_count": 24,
   "id": "e6b1fc61",
   "metadata": {},
   "outputs": [
    {
     "data": {
      "text/plain": [
       "163986          0\n",
       "163987          0\n",
       "163988          0\n",
       "163989          0\n",
       "163990          0\n",
       "           ...   \n",
       "164884    3837856\n",
       "164885    3870528\n",
       "164886    3893643\n",
       "164887    3929627\n",
       "164888    3964188\n",
       "Name: 總確診數, Length: 903, dtype: int64"
      ]
     },
     "execution_count": 24,
     "metadata": {},
     "output_type": "execute_result"
    }
   ],
   "source": [
    "taiwan1_df['總確診數']"
   ]
  }
 ],
 "metadata": {
  "kernelspec": {
   "display_name": "sunday",
   "language": "python",
   "name": "python3"
  },
  "language_info": {
   "codemirror_mode": {
    "name": "ipython",
    "version": 3
   },
   "file_extension": ".py",
   "mimetype": "text/x-python",
   "name": "python",
   "nbconvert_exporter": "python",
   "pygments_lexer": "ipython3",
   "version": "3.10.16"
  }
 },
 "nbformat": 4,
 "nbformat_minor": 5
}
