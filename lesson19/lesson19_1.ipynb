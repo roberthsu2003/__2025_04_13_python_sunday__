{
 "cells": [
  {
   "cell_type": "markdown",
   "id": "40d9eacd",
   "metadata": {},
   "source": [
    "https://www.perplexity.ai/search/0eafd6c8-1230-4d5d-9553-446ea1f18997"
   ]
  },
  {
   "cell_type": "code",
   "execution_count": null,
   "id": "aeaf0bc1",
   "metadata": {},
   "outputs": [],
   "source": [
    "#學生成績單\n",
    "\n",
    "import numpy as np\n",
    "import pandas as pd\n",
    "\n",
    "scores = np.random.randint(50, 101, size=(50, 5))\n",
    "scores_pd = pd.DataFrame(scores,columns=['國文','英文','數學','地理','歷史'],index=range(1,51))\n",
    "scores_pd.T"
   ]
  },
  {
   "cell_type": "code",
   "execution_count": null,
   "id": "2a4eaa7f",
   "metadata": {},
   "outputs": [],
   "source": [
    "scores_pd.index.name = \"學號\"\n",
    "scores_pd.columns.name = \"科目\"\n",
    "sum_value = scores_pd.sum(axis=1)\n",
    "mean_value = np.mean(scores_pd,axis=1)"
   ]
  },
  {
   "cell_type": "code",
   "execution_count": null,
   "id": "2f3d9250",
   "metadata": {},
   "outputs": [],
   "source": [
    "scores_pd['總分'] = sum_value\n",
    "scores_pd['平均'] = mean_value"
   ]
  },
  {
   "cell_type": "code",
   "execution_count": null,
   "id": "832db598",
   "metadata": {},
   "outputs": [],
   "source": [
    "#排序\n",
    "scores_pd1 = scores_pd.sort_values(by='總分',ascending=False)\n",
    "scores_pd1"
   ]
  },
  {
   "cell_type": "code",
   "execution_count": null,
   "id": "0bbde6d8",
   "metadata": {},
   "outputs": [],
   "source": [
    "#排名\n",
    "scores_pd1['排名'] = scores_pd1['總分'].rank(axis=0,method='min',ascending=False)"
   ]
  },
  {
   "cell_type": "code",
   "execution_count": null,
   "id": "0fe4dedc",
   "metadata": {},
   "outputs": [],
   "source": [
    "scores_pd1\n",
    "scores_pd1.map(lambda v:float(v))"
   ]
  },
  {
   "cell_type": "code",
   "execution_count": 46,
   "id": "9a5f3eb5",
   "metadata": {},
   "outputs": [
    {
     "data": {
      "text/html": [
       "<div>\n",
       "<style scoped>\n",
       "    .dataframe tbody tr th:only-of-type {\n",
       "        vertical-align: middle;\n",
       "    }\n",
       "\n",
       "    .dataframe tbody tr th {\n",
       "        vertical-align: top;\n",
       "    }\n",
       "\n",
       "    .dataframe thead th {\n",
       "        text-align: right;\n",
       "    }\n",
       "</style>\n",
       "<table border=\"1\" class=\"dataframe\">\n",
       "  <thead>\n",
       "    <tr style=\"text-align: right;\">\n",
       "      <th>科目</th>\n",
       "      <th>國文</th>\n",
       "      <th>英文</th>\n",
       "      <th>數學</th>\n",
       "      <th>地理</th>\n",
       "      <th>歷史</th>\n",
       "    </tr>\n",
       "  </thead>\n",
       "  <tbody>\n",
       "    <tr>\n",
       "      <th>最低分數</th>\n",
       "      <td>50.000000</td>\n",
       "      <td>51.000000</td>\n",
       "      <td>50.000000</td>\n",
       "      <td>50.000000</td>\n",
       "      <td>50.000000</td>\n",
       "    </tr>\n",
       "    <tr>\n",
       "      <th>最高分數</th>\n",
       "      <td>98.000000</td>\n",
       "      <td>100.000000</td>\n",
       "      <td>100.000000</td>\n",
       "      <td>100.000000</td>\n",
       "      <td>100.000000</td>\n",
       "    </tr>\n",
       "    <tr>\n",
       "      <th>中間值</th>\n",
       "      <td>69.000000</td>\n",
       "      <td>80.000000</td>\n",
       "      <td>77.500000</td>\n",
       "      <td>78.000000</td>\n",
       "      <td>78.500000</td>\n",
       "    </tr>\n",
       "    <tr>\n",
       "      <th>標準差</th>\n",
       "      <td>14.137806</td>\n",
       "      <td>14.299365</td>\n",
       "      <td>15.081831</td>\n",
       "      <td>13.720891</td>\n",
       "      <td>14.703172</td>\n",
       "    </tr>\n",
       "  </tbody>\n",
       "</table>\n",
       "</div>"
      ],
      "text/plain": [
       "科目           國文          英文          數學          地理          歷史\n",
       "最低分數  50.000000   51.000000   50.000000   50.000000   50.000000\n",
       "最高分數  98.000000  100.000000  100.000000  100.000000  100.000000\n",
       "中間值   69.000000   80.000000   77.500000   78.000000   78.500000\n",
       "標準差   14.137806   14.299365   15.081831   13.720891   14.703172"
      ]
     },
     "execution_count": 46,
     "metadata": {},
     "output_type": "execute_result"
    }
   ],
   "source": [
    "def calulate(s):\n",
    "    #return 自訂的series\n",
    "    custom_series = pd.Series([s.min(),s.max(),s.median(),s.std()],index=[\"最低分數\",\"最高分數\",\"中間值\",\"標準差\"])\n",
    "    return custom_series\n",
    "scores_pd1.iloc[:,:5].apply(calulate)"
   ]
  }
 ],
 "metadata": {
  "kernelspec": {
   "display_name": "sunday",
   "language": "python",
   "name": "python3"
  },
  "language_info": {
   "codemirror_mode": {
    "name": "ipython",
    "version": 3
   },
   "file_extension": ".py",
   "mimetype": "text/x-python",
   "name": "python",
   "nbconvert_exporter": "python",
   "pygments_lexer": "ipython3",
   "version": "3.10.16"
  }
 },
 "nbformat": 4,
 "nbformat_minor": 5
}
