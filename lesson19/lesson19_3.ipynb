{
 "cells": [
  {
   "cell_type": "markdown",
   "id": "a86228d7",
   "metadata": {},
   "source": [
    "https://www.perplexity.ai/search/c7c67e8b-1075-40c1-ab9e-69b6324a8954"
   ]
  },
  {
   "cell_type": "code",
   "execution_count": null,
   "id": "7f52e6e9",
   "metadata": {},
   "outputs": [],
   "source": [
    "!pip install yfinance"
   ]
  },
  {
   "cell_type": "code",
   "execution_count": 7,
   "id": "bfd4bf8d",
   "metadata": {},
   "outputs": [
    {
     "name": "stderr",
     "output_type": "stream",
     "text": [
      "[*********************100%***********************]  1 of 1 completed\n"
     ]
    },
    {
     "data": {
      "text/plain": [
       "Date\n",
       "2024-01-02    582.770691\n",
       "2024-01-03    568.029480\n",
       "2024-01-04    569.994995\n",
       "2024-01-05    566.063965\n",
       "2024-01-08    572.943298\n",
       "                 ...    \n",
       "2024-05-27    857.997559\n",
       "2024-05-28    854.048218\n",
       "2024-05-29    846.149475\n",
       "2024-05-30    827.390015\n",
       "2024-05-31    810.605225\n",
       "Name: 2330.TW, Length: 98, dtype: float64"
      ]
     },
     "execution_count": 7,
     "metadata": {},
     "output_type": "execute_result"
    }
   ],
   "source": [
    "import yfinance as yf\n",
    "ticker = '2330.TW'  # 台灣50 ETF\n",
    "start_date = '2024-01-01'\n",
    "end_date = '2024-06-01'\n",
    "\n",
    "data = yf.download(ticker, start=start_date, end=end_date, interval='1d',auto_adjust=False)\n",
    "data['Adj Close']['2330.TW']\n",
    "\n"
   ]
  }
 ],
 "metadata": {
  "kernelspec": {
   "display_name": "sunday",
   "language": "python",
   "name": "python3"
  },
  "language_info": {
   "codemirror_mode": {
    "name": "ipython",
    "version": 3
   },
   "file_extension": ".py",
   "mimetype": "text/x-python",
   "name": "python",
   "nbconvert_exporter": "python",
   "pygments_lexer": "ipython3",
   "version": "3.10.16"
  }
 },
 "nbformat": 4,
 "nbformat_minor": 5
}
