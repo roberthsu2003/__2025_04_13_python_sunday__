{
 "cells": [
  {
   "cell_type": "markdown",
   "id": "a86228d7",
   "metadata": {},
   "source": [
    "https://www.perplexity.ai/search/c7c67e8b-1075-40c1-ab9e-69b6324a8954"
   ]
  },
  {
   "cell_type": "code",
   "execution_count": null,
   "id": "7f52e6e9",
   "metadata": {},
   "outputs": [],
   "source": [
    "!pip install yfinance"
   ]
  },
  {
   "cell_type": "code",
   "execution_count": null,
   "id": "bfd4bf8d",
   "metadata": {},
   "outputs": [],
   "source": [
    "import yfinance as yf\n",
    "ticker = '2330.TW'  # 台灣50 ETF\n",
    "start_date = '2024-01-01'\n",
    "end_date = '2024-06-01'\n",
    "\n",
    "data = yf.download(ticker, start=start_date, end=end_date, interval='1d',auto_adjust=False)\n",
    "data['Adj Close']['2330.TW']\n",
    "\n"
   ]
  },
  {
   "cell_type": "code",
   "execution_count": null,
   "id": "c937ffcd",
   "metadata": {},
   "outputs": [],
   "source": [
    "from pandas import DataFrame\n",
    "start_date = '2024-01-01'\n",
    "end_date = '2025-01-01'\n",
    "\n",
    "tickers = ['2330.TW', '2303.TW', '2454.TW', '2317.TW']\n",
    "all_data:dict[str:DataFrame]= {ticker: yf.download(ticker,start=start_date, end=end_date, interval='1d',auto_adjust=False) for ticker in tickers }"
   ]
  },
  {
   "cell_type": "code",
   "execution_count": 14,
   "id": "30df10b1",
   "metadata": {},
   "outputs": [
    {
     "data": {
      "text/html": [
       "<div>\n",
       "<style scoped>\n",
       "    .dataframe tbody tr th:only-of-type {\n",
       "        vertical-align: middle;\n",
       "    }\n",
       "\n",
       "    .dataframe tbody tr th {\n",
       "        vertical-align: top;\n",
       "    }\n",
       "\n",
       "    .dataframe thead th {\n",
       "        text-align: right;\n",
       "    }\n",
       "</style>\n",
       "<table border=\"1\" class=\"dataframe\">\n",
       "  <thead>\n",
       "    <tr style=\"text-align: right;\">\n",
       "      <th></th>\n",
       "      <th>台積電</th>\n",
       "      <th>聯電</th>\n",
       "      <th>聯發科</th>\n",
       "      <th>鴻海</th>\n",
       "    </tr>\n",
       "    <tr>\n",
       "      <th>Date</th>\n",
       "      <th></th>\n",
       "      <th></th>\n",
       "      <th></th>\n",
       "      <th></th>\n",
       "    </tr>\n",
       "  </thead>\n",
       "  <tbody>\n",
       "    <tr>\n",
       "      <th>2024-01-02</th>\n",
       "      <td>582.770691</td>\n",
       "      <td>49.163513</td>\n",
       "      <td>915.833191</td>\n",
       "      <td>102.375000</td>\n",
       "    </tr>\n",
       "    <tr>\n",
       "      <th>2024-01-03</th>\n",
       "      <td>568.029541</td>\n",
       "      <td>47.932056</td>\n",
       "      <td>889.693176</td>\n",
       "      <td>101.887505</td>\n",
       "    </tr>\n",
       "    <tr>\n",
       "      <th>2024-01-04</th>\n",
       "      <td>569.994934</td>\n",
       "      <td>48.121510</td>\n",
       "      <td>889.309814</td>\n",
       "      <td>101.400002</td>\n",
       "    </tr>\n",
       "    <tr>\n",
       "      <th>2024-01-05</th>\n",
       "      <td>566.064026</td>\n",
       "      <td>48.121510</td>\n",
       "      <td>882.601746</td>\n",
       "      <td>101.400002</td>\n",
       "    </tr>\n",
       "    <tr>\n",
       "      <th>2024-01-08</th>\n",
       "      <td>572.943176</td>\n",
       "      <td>47.837330</td>\n",
       "      <td>881.643433</td>\n",
       "      <td>98.962502</td>\n",
       "    </tr>\n",
       "    <tr>\n",
       "      <th>...</th>\n",
       "      <td>...</td>\n",
       "      <td>...</td>\n",
       "      <td>...</td>\n",
       "      <td>...</td>\n",
       "    </tr>\n",
       "    <tr>\n",
       "      <th>2024-12-25</th>\n",
       "      <td>1075.403198</td>\n",
       "      <td>44.049999</td>\n",
       "      <td>1381.102417</td>\n",
       "      <td>186.500000</td>\n",
       "    </tr>\n",
       "    <tr>\n",
       "      <th>2024-12-26</th>\n",
       "      <td>1075.403198</td>\n",
       "      <td>43.700001</td>\n",
       "      <td>1390.897583</td>\n",
       "      <td>187.500000</td>\n",
       "    </tr>\n",
       "    <tr>\n",
       "      <th>2024-12-27</th>\n",
       "      <td>1080.358887</td>\n",
       "      <td>43.599998</td>\n",
       "      <td>1400.692627</td>\n",
       "      <td>186.500000</td>\n",
       "    </tr>\n",
       "    <tr>\n",
       "      <th>2024-12-30</th>\n",
       "      <td>1080.358887</td>\n",
       "      <td>43.099998</td>\n",
       "      <td>1390.897583</td>\n",
       "      <td>185.000000</td>\n",
       "    </tr>\n",
       "    <tr>\n",
       "      <th>2024-12-31</th>\n",
       "      <td>1065.491699</td>\n",
       "      <td>43.049999</td>\n",
       "      <td>1386.000000</td>\n",
       "      <td>184.000000</td>\n",
       "    </tr>\n",
       "  </tbody>\n",
       "</table>\n",
       "<p>242 rows × 4 columns</p>\n",
       "</div>"
      ],
      "text/plain": [
       "                    台積電         聯電          聯發科          鴻海\n",
       "Date                                                       \n",
       "2024-01-02   582.770691  49.163513   915.833191  102.375000\n",
       "2024-01-03   568.029541  47.932056   889.693176  101.887505\n",
       "2024-01-04   569.994934  48.121510   889.309814  101.400002\n",
       "2024-01-05   566.064026  48.121510   882.601746  101.400002\n",
       "2024-01-08   572.943176  47.837330   881.643433   98.962502\n",
       "...                 ...        ...          ...         ...\n",
       "2024-12-25  1075.403198  44.049999  1381.102417  186.500000\n",
       "2024-12-26  1075.403198  43.700001  1390.897583  187.500000\n",
       "2024-12-27  1080.358887  43.599998  1400.692627  186.500000\n",
       "2024-12-30  1080.358887  43.099998  1390.897583  185.000000\n",
       "2024-12-31  1065.491699  43.049999  1386.000000  184.000000\n",
       "\n",
       "[242 rows x 4 columns]"
      ]
     },
     "execution_count": 14,
     "metadata": {},
     "output_type": "execute_result"
    }
   ],
   "source": [
    "import pandas as pd\n",
    "\n",
    "price_df = pd.DataFrame({key:dataframe['Adj Close'][key] for key,dataframe in all_data.items()})\n",
    "price_df1 = price_df.rename(columns={'2330.TW':'台積電','2303.TW':'聯電','2454.TW':'聯發科','2317.TW':'鴻海'})\n",
    "price_df1"
   ]
  },
  {
   "cell_type": "code",
   "execution_count": 16,
   "id": "84b0cd62",
   "metadata": {},
   "outputs": [
    {
     "name": "stdout",
     "output_type": "stream",
     "text": [
      "<class 'pandas.core.frame.DataFrame'>\n",
      "DatetimeIndex: 242 entries, 2024-01-02 to 2024-12-31\n",
      "Data columns (total 4 columns):\n",
      " #   Column  Non-Null Count  Dtype  \n",
      "---  ------  --------------  -----  \n",
      " 0   台積電     242 non-null    float64\n",
      " 1   聯電      242 non-null    float64\n",
      " 2   聯發科     242 non-null    float64\n",
      " 3   鴻海      242 non-null    float64\n",
      "dtypes: float64(4)\n",
      "memory usage: 9.5 KB\n"
     ]
    }
   ],
   "source": [
    "price_df1.info()"
   ]
  }
 ],
 "metadata": {
  "kernelspec": {
   "display_name": "sunday",
   "language": "python",
   "name": "python3"
  },
  "language_info": {
   "codemirror_mode": {
    "name": "ipython",
    "version": 3
   },
   "file_extension": ".py",
   "mimetype": "text/x-python",
   "name": "python",
   "nbconvert_exporter": "python",
   "pygments_lexer": "ipython3",
   "version": "3.10.16"
  }
 },
 "nbformat": 4,
 "nbformat_minor": 5
}
