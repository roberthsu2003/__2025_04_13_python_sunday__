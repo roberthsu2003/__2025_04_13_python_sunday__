{
 "cells": [
  {
   "cell_type": "code",
   "execution_count": 16,
   "id": "fa7d7339",
   "metadata": {},
   "outputs": [
    {
     "name": "stdout",
     "output_type": "stream",
     "text": [
      "沒有發生問題\n"
     ]
    }
   ],
   "source": [
    "import requests\n",
    "from requests import ConnectionError,HTTPError,Timeout\n",
    "import numpy as np\n",
    "import pandas as pd\n",
    "\n",
    "url = 'https://data.ntpc.gov.tw/api/datasets/010e5b15-3823-4b20-b401-b1cf000550c5/json?page=0&size=10000'\n",
    "try:\n",
    "    response = requests.get(url)    \n",
    "    response.raise_for_status()    \n",
    "except ConnectionError:\n",
    "    print('找不到伺服器')\n",
    "except HTTPError:\n",
    "    print('網頁找不到')\n",
    "except Timeout:\n",
    "    print('超過時間沒有回應')\n",
    "else:\n",
    "    print('沒有發生問題')\n",
    "\n",
    "records = response.json()\n",
    "#records\n",
    "allRecords = pd.DataFrame(records,columns=['sna','tot','mday','sbi','sarea','ar','bemp'])\n",
    "allRecords1 = allRecords.rename(columns= {'sna':'站名', 'sarea':'區域', 'ar':'地址', 'tot':'數量','sbi':'可借', 'bemp':'可還','mday':'時間'})"
   ]
  },
  {
   "cell_type": "code",
   "execution_count": 20,
   "id": "6885896c",
   "metadata": {},
   "outputs": [],
   "source": [
    "allRecords1['站名'] = allRecords1['站名'].apply(lambda name:name[11:])\n"
   ]
  },
  {
   "cell_type": "code",
   "execution_count": 22,
   "id": "9bebc6ef",
   "metadata": {},
   "outputs": [
    {
     "name": "stdout",
     "output_type": "stream",
     "text": [
      "<class 'pandas.core.frame.DataFrame'>\n",
      "RangeIndex: 1000 entries, 0 to 999\n",
      "Data columns (total 7 columns):\n",
      " #   Column  Non-Null Count  Dtype \n",
      "---  ------  --------------  ----- \n",
      " 0   站名      1000 non-null   object\n",
      " 1   數量      1000 non-null   object\n",
      " 2   時間      1000 non-null   object\n",
      " 3   可借      1000 non-null   object\n",
      " 4   區域      1000 non-null   object\n",
      " 5   地址      1000 non-null   object\n",
      " 6   可還      1000 non-null   object\n",
      "dtypes: object(7)\n",
      "memory usage: 54.8+ KB\n"
     ]
    }
   ],
   "source": [
    "allRecords1.info()"
   ]
  },
  {
   "cell_type": "code",
   "execution_count": 25,
   "id": "855b6b8a",
   "metadata": {},
   "outputs": [],
   "source": [
    "allRecords1['時間'] = pd.to_datetime(allRecords1['時間'])"
   ]
  },
  {
   "cell_type": "code",
   "execution_count": 28,
   "id": "7ce60fcb",
   "metadata": {},
   "outputs": [],
   "source": [
    "allRecords1[['數量','可借','可還']] = allRecords1[['數量','可借','可還']].astype(int)"
   ]
  },
  {
   "cell_type": "code",
   "execution_count": 30,
   "id": "e8096986",
   "metadata": {},
   "outputs": [
    {
     "name": "stdout",
     "output_type": "stream",
     "text": [
      "<class 'pandas.core.frame.DataFrame'>\n",
      "RangeIndex: 1000 entries, 0 to 999\n",
      "Data columns (total 7 columns):\n",
      " #   Column  Non-Null Count  Dtype         \n",
      "---  ------  --------------  -----         \n",
      " 0   站名      1000 non-null   object        \n",
      " 1   數量      1000 non-null   int64         \n",
      " 2   時間      1000 non-null   datetime64[ns]\n",
      " 3   可借      1000 non-null   int64         \n",
      " 4   區域      1000 non-null   object        \n",
      " 5   地址      1000 non-null   object        \n",
      " 6   可還      1000 non-null   int64         \n",
      "dtypes: datetime64[ns](1), int64(3), object(3)\n",
      "memory usage: 54.8+ KB\n"
     ]
    }
   ],
   "source": [
    "allRecords1.info()"
   ]
  }
 ],
 "metadata": {
  "kernelspec": {
   "display_name": "sunday",
   "language": "python",
   "name": "python3"
  },
  "language_info": {
   "codemirror_mode": {
    "name": "ipython",
    "version": 3
   },
   "file_extension": ".py",
   "mimetype": "text/x-python",
   "name": "python",
   "nbconvert_exporter": "python",
   "pygments_lexer": "ipython3",
   "version": "3.10.16"
  }
 },
 "nbformat": 4,
 "nbformat_minor": 5
}
