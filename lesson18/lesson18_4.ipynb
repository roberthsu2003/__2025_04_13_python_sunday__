{
 "cells": [
  {
   "cell_type": "markdown",
   "id": "6463dd18",
   "metadata": {},
   "source": [
    "https://www.perplexity.ai/search/83b26786-5e8e-4cbe-ac68-acf4626be7c8"
   ]
  },
  {
   "cell_type": "code",
   "execution_count": null,
   "id": "0fbd5b38",
   "metadata": {},
   "outputs": [],
   "source": [
    "import pandas as pd\n",
    "from pandas import DataFrame\n",
    "import os\n",
    "\n",
    "\n",
    "#參數愈多,function就愈靈活\n",
    "def concatenate(folder_abspath:str,filename:str)->DataFrame:\n",
    "    \"\"\"\n",
    "    可以組合台鐵進出站的資訊\n",
    "    param:\n",
    "        folder_abspath:\"所在資料夾的絕對位置\"\n",
    "        filename:\"檔案名稱\"\n",
    "    return:\n",
    "        傳出DataFrame\n",
    "    \"\"\"\n",
    "\n",
    "    csv_absPath = os.path.join(folder_abspath,filename)\n",
    "    df = pd.read_csv(csv_absPath)\n",
    "    site_df = pd.read_csv(os.path.abspath('台鐵車站資訊.csv'))\n",
    "    df1 = pd.merge(df,site_df,left_on='staCode',right_on='stationCode',how='left')\n",
    "    df2 = df1.reindex(columns=['trnOpDate','staCode','gateInComingCnt','gateOutGoingCnt','name','stationAddrTw','gps','haveBike'])\n",
    "    df3 = df2.rename(columns={'trnOpDate':'日期',\n",
    "                    'staCode':'代碼',\n",
    "                    'gateInComingCnt':'進站人數',\n",
    "                    'gateOutGoingCnt':'出站人數',\n",
    "                    'name':'站名',\n",
    "                    'stationAddrTw':'地址',\n",
    "                    'gps':'gps',\n",
    "                    'haveBike':'youBike'\n",
    "                    })\n",
    "    df4 = df3.dropna()\n",
    "    df4['日期'] = pd.to_datetime(df4['日期'].astype(str))\n",
    "    return df4"
   ]
  },
  {
   "cell_type": "code",
   "execution_count": null,
   "id": "64065a47",
   "metadata": {},
   "outputs": [],
   "source": [
    "folder_name = '每日各站進出站人數'\n",
    "folder_abspath = os.path.abspath(folder_name)\n",
    "allitems:list[str] = os.listdir(folder_abspath)\n",
    "filenames = [file_name for file_name in allitems if len(file_name) > 12]\n",
    "all_data:list[DataFrame] = [concatenate(folder_abspath,filename) for filename in filenames]\n",
    "combine_datas = pd.concat(all_data,ignore_index=True)\n",
    "combine_datas"
   ]
  },
  {
   "cell_type": "code",
   "execution_count": null,
   "id": "7a9c4ad6",
   "metadata": {},
   "outputs": [],
   "source": [
    "sort_datas:DataFrame = combine_datas.sort_values(by='日期')\n",
    "sort_datas"
   ]
  }
 ],
 "metadata": {
  "kernelspec": {
   "display_name": "sunday",
   "language": "python",
   "name": "python3"
  },
  "language_info": {
   "codemirror_mode": {
    "name": "ipython",
    "version": 3
   },
   "file_extension": ".py",
   "mimetype": "text/x-python",
   "name": "python",
   "nbconvert_exporter": "python",
   "pygments_lexer": "ipython3",
   "version": "3.10.16"
  }
 },
 "nbformat": 4,
 "nbformat_minor": 5
}
