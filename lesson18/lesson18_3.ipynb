{
 "cells": [
  {
   "cell_type": "markdown",
   "id": "f845b0d7",
   "metadata": {},
   "source": [
    "https://www.perplexity.ai/search/83b26786-5e8e-4cbe-ac68-acf4626be7c8"
   ]
  },
  {
   "cell_type": "code",
   "execution_count": 7,
   "id": "5ccf5535",
   "metadata": {},
   "outputs": [
    {
     "name": "stdout",
     "output_type": "stream",
     "text": [
      "/Users/roberthsu2003/Documents/GitHub/__2025_04_13_python_sunday__/lesson18/每日各站進出站人數/每日各站進出站人數2021.csv\n",
      "/Users/roberthsu2003/Documents/GitHub/__2025_04_13_python_sunday__/lesson18/每日各站進出站人數/每日各站進出站人數2020.csv\n",
      "/Users/roberthsu2003/Documents/GitHub/__2025_04_13_python_sunday__/lesson18/每日各站進出站人數/每日各站進出站人數20190423-20191231.csv\n",
      "/Users/roberthsu2003/Documents/GitHub/__2025_04_13_python_sunday__/lesson18/每日各站進出站人數/每日各站進出站人數2022.csv\n",
      "/Users/roberthsu2003/Documents/GitHub/__2025_04_13_python_sunday__/lesson18/每日各站進出站人數/每日各站進出站人數2023.csv\n"
     ]
    }
   ],
   "source": [
    "import os\n",
    "folder_name = '每日各站進出站人數'\n",
    "folder_abspath = os.path.abspath(folder_name)\n",
    "allitems:list[str] = os.listdir(folder_abspath)\n",
    "\n",
    "# for file_name in allitems:\n",
    "#     if len(file_name) > 12:\n",
    "#         print(file_name)\n",
    "\n",
    "#綜合串列運算語法(comprehension)\n",
    "\n",
    "filenames = [file_name for file_name in allitems if len(file_name) > 12]\n",
    "for file_name in filenames:\n",
    "    filename_absPath = os.path.join(folder_abspath, file_name)\n",
    "    print(filename_absPath)"
   ]
  }
 ],
 "metadata": {
  "kernelspec": {
   "display_name": "sunday",
   "language": "python",
   "name": "python3"
  },
  "language_info": {
   "codemirror_mode": {
    "name": "ipython",
    "version": 3
   },
   "file_extension": ".py",
   "mimetype": "text/x-python",
   "name": "python",
   "nbconvert_exporter": "python",
   "pygments_lexer": "ipython3",
   "version": "3.10.16"
  }
 },
 "nbformat": 4,
 "nbformat_minor": 5
}
