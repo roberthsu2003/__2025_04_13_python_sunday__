{
 "cells": [
  {
   "cell_type": "markdown",
   "id": "f845b0d7",
   "metadata": {},
   "source": [
    "https://www.perplexity.ai/search/83b26786-5e8e-4cbe-ac68-acf4626be7c8"
   ]
  },
  {
   "cell_type": "code",
   "execution_count": 5,
   "id": "5ccf5535",
   "metadata": {},
   "outputs": [
    {
     "data": {
      "text/plain": [
       "['每日各站進出站人數2021.csv',\n",
       " '每日各站進出站人數2020.csv',\n",
       " '每日各站進出站人數20190423-20191231.csv',\n",
       " '每日各站進出站人數2022.csv',\n",
       " '每日各站進出站人數2023.csv']"
      ]
     },
     "execution_count": 5,
     "metadata": {},
     "output_type": "execute_result"
    }
   ],
   "source": [
    "import os\n",
    "folder_name = '每日各站進出站人數'\n",
    "allitems:list[str] = os.listdir(folder_name)\n",
    "\n",
    "# for file_name in allitems:\n",
    "#     if len(file_name) > 12:\n",
    "#         print(file_name)\n",
    "\n",
    "#綜合串列運算語法(comprehension)\n",
    "\n",
    "filenames = [file_name for file_name in allitems if len(file_name) > 12]\n",
    "filenames"
   ]
  }
 ],
 "metadata": {
  "kernelspec": {
   "display_name": "sunday",
   "language": "python",
   "name": "python3"
  },
  "language_info": {
   "codemirror_mode": {
    "name": "ipython",
    "version": 3
   },
   "file_extension": ".py",
   "mimetype": "text/x-python",
   "name": "python",
   "nbconvert_exporter": "python",
   "pygments_lexer": "ipython3",
   "version": "3.10.16"
  }
 },
 "nbformat": 4,
 "nbformat_minor": 5
}
