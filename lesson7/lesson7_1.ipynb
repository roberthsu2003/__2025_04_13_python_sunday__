{
 "cells": [
  {
   "cell_type": "code",
   "execution_count": 3,
   "id": "da9022e4",
   "metadata": {},
   "outputs": [
    {
     "name": "stdout",
     "output_type": "stream",
     "text": [
      "身高:173cm\n",
      "體重:75kg\n",
      "BMI:25.1\n",
      "狀態:過重\n"
     ]
    }
   ],
   "source": [
    "height:int = int(input(\"請輸入身高公分\"))\n",
    "weight:int = int(input(\"請輸入體重公斤\"))\n",
    "BMI = round(weight/pow(height/100,2),1)\n",
    "\n",
    "print(f\"身高:{height}\"\"cm\")\n",
    "print(f\"體重:{weight}\"\"kg\")\n",
    "print(f\"BMI:{BMI}\")\n",
    "\n",
    "if BMI < 18.5:\n",
    "    status = \"體重過輕\"\n",
    "elif BMI < 24:\n",
    "    status = \"正常\"\n",
    "elif BMI < 27:\n",
    "    status = \"過重\"\n",
    "elif BMI < 30:\n",
    "    status = \"輕度肥胖\"\n",
    "elif BMI <35:\n",
    "    status = \"中度肥胖\"\n",
    "else:\n",
    "    status = \"重度肥胖\"\n",
    "print(f\"狀態:{status}\")"
   ]
  }
 ],
 "metadata": {
  "kernelspec": {
   "display_name": "base",
   "language": "python",
   "name": "python3"
  },
  "language_info": {
   "codemirror_mode": {
    "name": "ipython",
    "version": 3
   },
   "file_extension": ".py",
   "mimetype": "text/x-python",
   "name": "python",
   "nbconvert_exporter": "python",
   "pygments_lexer": "ipython3",
   "version": "3.12.7"
  }
 },
 "nbformat": 4,
 "nbformat_minor": 5
}
