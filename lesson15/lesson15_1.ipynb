{
 "cells": [
  {
   "cell_type": "markdown",
   "id": "d54ca584",
   "metadata": {},
   "source": [
    "https://www.perplexity.ai/search/0638400d-59de-4d83-8e38-0cb807daf590"
   ]
  },
  {
   "cell_type": "code",
   "execution_count": null,
   "id": "72e25f71",
   "metadata": {},
   "outputs": [],
   "source": [
    "import numpy as np\n",
    "from numpy import ndarray\n",
    "\n",
    "my_array:ndarray = np.arange(1000000)\n",
    "my_list = list(range(1000000))"
   ]
  },
  {
   "cell_type": "code",
   "execution_count": null,
   "id": "39736795",
   "metadata": {},
   "outputs": [],
   "source": [
    "%time \n",
    "\n",
    "for _ in range(10):\n",
    "    #list的comprehension,list綜合表達式\n",
    "    my_lists = [x*2 for x in my_list]"
   ]
  },
  {
   "cell_type": "code",
   "execution_count": null,
   "id": "c89eeeab",
   "metadata": {},
   "outputs": [],
   "source": [
    "%time for _ in range(10): my_array2 = my_array * 2"
   ]
  },
  {
   "cell_type": "code",
   "execution_count": null,
   "id": "0e096b1c",
   "metadata": {},
   "outputs": [],
   "source": [
    "#tuple,1個元素的表示法\n",
    "(4, 5)\n",
    "type((4,))"
   ]
  },
  {
   "cell_type": "code",
   "execution_count": null,
   "id": "d1b68f67",
   "metadata": {},
   "outputs": [],
   "source": [
    "np.array(range(4)).shape"
   ]
  },
  {
   "cell_type": "markdown",
   "id": "334ff90d",
   "metadata": {},
   "source": [
    "### 50個學生,每個學生有5個分數,每個分數50~100"
   ]
  },
  {
   "cell_type": "code",
   "execution_count": null,
   "id": "aac7fcdb",
   "metadata": {},
   "outputs": [],
   "source": [
    "np.random.seed(42)\n",
    "scores = np.random.randint(50, 101,(50,5))\n",
    "scores"
   ]
  },
  {
   "cell_type": "code",
   "execution_count": null,
   "id": "c6bf17f5",
   "metadata": {},
   "outputs": [],
   "source": [
    "#ndarray常用的實體屬性\n",
    "scores.ndim\n",
    "scores.shape\n",
    "scores.size\n",
    "scores.dtype"
   ]
  },
  {
   "cell_type": "markdown",
   "id": "708f812f",
   "metadata": {},
   "source": [
    "### 基本索引(index)和分割(slicing)\n",
    "- ndarray[index]\n",
    "- ndayyay[start:end:step]"
   ]
  },
  {
   "cell_type": "code",
   "execution_count": null,
   "id": "806c71f2",
   "metadata": {},
   "outputs": [],
   "source": [
    "#2維\n",
    "scores[0][4] #類似list的操作\n",
    "scores[0, 4] #ndarrya的操作法"
   ]
  },
  {
   "cell_type": "code",
   "execution_count": null,
   "id": "9e3f6b8e",
   "metadata": {},
   "outputs": [],
   "source": [
    "## 取得第1位學生的分數\n",
    "scores[0] #shape(5,)\n",
    "scores[0,:] #shape(5,0)\n",
    "scores[0:1,:] #shape(1,5)"
   ]
  },
  {
   "cell_type": "code",
   "execution_count": null,
   "id": "1910efbc",
   "metadata": {},
   "outputs": [],
   "source": [
    "## 取得第1,2位學生的分數\n",
    "scores[:2]\n",
    "scores[:2,:]\n",
    "scores[(0,1),:]"
   ]
  },
  {
   "cell_type": "code",
   "execution_count": null,
   "id": "88c502ec",
   "metadata": {},
   "outputs": [],
   "source": [
    "## 取得第1,2,5位學生的分數\n",
    "scores[(0,1,4),:]"
   ]
  },
  {
   "cell_type": "code",
   "execution_count": null,
   "id": "c33623d8",
   "metadata": {},
   "outputs": [],
   "source": [
    "## 取得第1科的所有分數\n",
    "scores[:,0] #(50,)\n",
    "scores[:,0:1] #(1,50)"
   ]
  },
  {
   "cell_type": "code",
   "execution_count": null,
   "id": "81241208",
   "metadata": {},
   "outputs": [],
   "source": [
    "## 取得第1,2科的所有分數\n",
    "scores[:,:2] #(50,2)"
   ]
  },
  {
   "cell_type": "code",
   "execution_count": null,
   "id": "9c622afe",
   "metadata": {},
   "outputs": [],
   "source": [
    "## 取得前30位學生的最後3科分數\n",
    "scores[:30,-3:] #(30,3)"
   ]
  },
  {
   "cell_type": "markdown",
   "id": "c0203886",
   "metadata": {},
   "source": [
    "### ndarray的統計的實體方法\n",
    "- sum()\n",
    "- min()\n",
    "- max()\n",
    "- mean()"
   ]
  },
  {
   "cell_type": "code",
   "execution_count": null,
   "id": "410d25c1",
   "metadata": {},
   "outputs": [
    {
     "data": {
      "text/plain": [
       "array([379, 358, 380, 340, 369, 397, 373, 427, 372, 356, 330, 398, 397,\n",
       "       339, 366, 370, 353, 385, 412, 376, 311, 383, 373, 400, 315, 410,\n",
       "       413, 400, 294, 349, 392, 401, 419, 381, 385, 368, 411, 381, 330,\n",
       "       334, 452, 372, 435, 385, 343, 371, 368, 315, 352, 375])"
      ]
     },
     "execution_count": 54,
     "metadata": {},
     "output_type": "execute_result"
    }
   ],
   "source": [
    "#每個學生的總分\n",
    "scores.sum(axis=1) #ndarray實體方法\n",
    "\n",
    "np.sum(scores,axis=1) #numpy的global的function"
   ]
  },
  {
   "cell_type": "code",
   "execution_count": 55,
   "id": "edaf7aa4",
   "metadata": {},
   "outputs": [
    {
     "data": {
      "text/plain": [
       "array([75.8, 71.6, 76. , 68. , 73.8, 79.4, 74.6, 85.4, 74.4, 71.2, 66. ,\n",
       "       79.6, 79.4, 67.8, 73.2, 74. , 70.6, 77. , 82.4, 75.2, 62.2, 76.6,\n",
       "       74.6, 80. , 63. , 82. , 82.6, 80. , 58.8, 69.8])"
      ]
     },
     "execution_count": 55,
     "metadata": {},
     "output_type": "execute_result"
    }
   ],
   "source": [
    "#前30位學生的平均\n",
    "scores[:30].mean(axis=1)\n",
    "np.mean(scores[:30],axis=1)"
   ]
  },
  {
   "cell_type": "code",
   "execution_count": 52,
   "id": "7f0b92f7",
   "metadata": {},
   "outputs": [
    {
     "data": {
      "text/plain": [
       "np.int64(50)"
      ]
     },
     "execution_count": 52,
     "metadata": {},
     "output_type": "execute_result"
    }
   ],
   "source": [
    "#第1科最高的分數和最低分數\n",
    "scores[:,0].max(axis=0)\n",
    "scores[:,0].min(axis=0)"
   ]
  }
 ],
 "metadata": {
  "kernelspec": {
   "display_name": "sunday",
   "language": "python",
   "name": "python3"
  },
  "language_info": {
   "codemirror_mode": {
    "name": "ipython",
    "version": 3
   },
   "file_extension": ".py",
   "mimetype": "text/x-python",
   "name": "python",
   "nbconvert_exporter": "python",
   "pygments_lexer": "ipython3",
   "version": "3.10.16"
  }
 },
 "nbformat": 4,
 "nbformat_minor": 5
}
