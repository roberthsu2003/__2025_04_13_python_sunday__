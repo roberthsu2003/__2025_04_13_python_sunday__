{
 "cells": [
  {
   "cell_type": "markdown",
   "id": "988f9d97",
   "metadata": {},
   "source": [
    "### 組合多筆資料成為有順序的資料(list)"
   ]
  },
  {
   "cell_type": "code",
   "execution_count": 2,
   "id": "cc94bb12",
   "metadata": {},
   "outputs": [],
   "source": [
    "nums:list = [1, 2, 3, 4, 'a', 'b', 'c']\n"
   ]
  },
  {
   "cell_type": "markdown",
   "id": "1cf1bbe7",
   "metadata": {},
   "source": [
    "### list內的元素,一般都是相同的資料類型\n"
   ]
  },
  {
   "cell_type": "code",
   "execution_count": null,
   "id": "f1493bea",
   "metadata": {},
   "outputs": [
    {
     "data": {
      "text/plain": [
       "[10, 20, 30, 40, 50, 60, 70, 80, 90, 100]"
      ]
     },
     "execution_count": 5,
     "metadata": {},
     "output_type": "execute_result"
    }
   ],
   "source": [
    "nums:list[int] = [10, 20, 30, 40, 50, 60, 70, 80, 90, 100]\n",
    "nums"
   ]
  },
  {
   "cell_type": "code",
   "execution_count": 10,
   "id": "5fa6e0bc",
   "metadata": {},
   "outputs": [
    {
     "data": {
      "text/plain": [
       "100"
      ]
     },
     "execution_count": 10,
     "metadata": {},
     "output_type": "execute_result"
    }
   ],
   "source": [
    "#取出元素\n",
    "nums[0]\n",
    "nums[1]\n",
    "nums[9]\n",
    "nums[-1]"
   ]
  },
  {
   "cell_type": "code",
   "execution_count": 15,
   "id": "9f6f6680",
   "metadata": {},
   "outputs": [
    {
     "data": {
      "text/plain": [
       "[60, 70, 80, 90, 100]"
      ]
     },
     "execution_count": 15,
     "metadata": {},
     "output_type": "execute_result"
    }
   ],
   "source": [
    "#切割元素(slice)\n",
    "nums[0:5]\n",
    "nums[3:5]\n",
    "nums[:5] #前5個\n",
    "nums[-5:] #最後5個"
   ]
  },
  {
   "cell_type": "code",
   "execution_count": 16,
   "id": "0a45f671",
   "metadata": {},
   "outputs": [
    {
     "name": "stdout",
     "output_type": "stream",
     "text": [
      "10 20 30 40 50 60 70 80 90 100 "
     ]
    }
   ],
   "source": [
    "#list是串列資料,代表可以iterable\n",
    "for i in nums:\n",
    "    print(i,end=' ')"
   ]
  }
 ],
 "metadata": {
  "kernelspec": {
   "display_name": "base",
   "language": "python",
   "name": "python3"
  },
  "language_info": {
   "codemirror_mode": {
    "name": "ipython",
    "version": 3
   },
   "file_extension": ".py",
   "mimetype": "text/x-python",
   "name": "python",
   "nbconvert_exporter": "python",
   "pygments_lexer": "ipython3",
   "version": "3.12.7"
  }
 },
 "nbformat": 4,
 "nbformat_minor": 5
}
