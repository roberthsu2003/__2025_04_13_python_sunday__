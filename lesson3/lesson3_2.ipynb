{
 "cells": [
  {
   "cell_type": "markdown",
   "id": "6f5a5e3d",
   "metadata": {},
   "source": [
    "### 複合指定運算子"
   ]
  },
  {
   "cell_type": "code",
   "execution_count": 1,
   "id": "bb5f1e2d",
   "metadata": {},
   "outputs": [
    {
     "name": "stdout",
     "output_type": "stream",
     "text": [
      "10\n"
     ]
    }
   ],
   "source": [
    "n = 10\n",
    "n + 1\n",
    "print(n)"
   ]
  },
  {
   "cell_type": "code",
   "execution_count": 2,
   "id": "a8f1d957",
   "metadata": {},
   "outputs": [
    {
     "name": "stdout",
     "output_type": "stream",
     "text": [
      "11\n"
     ]
    }
   ],
   "source": [
    "n = 10\n",
    "n = n + 1\n",
    "print(n)"
   ]
  },
  {
   "cell_type": "code",
   "execution_count": 3,
   "id": "944e8f4a",
   "metadata": {},
   "outputs": [
    {
     "name": "stdout",
     "output_type": "stream",
     "text": [
      "11\n"
     ]
    }
   ],
   "source": [
    "n = 10\n",
    "n += 1 #複合指定運算子\n",
    "print(n)"
   ]
  },
  {
   "cell_type": "code",
   "execution_count": 4,
   "id": "1832d26e",
   "metadata": {},
   "outputs": [
    {
     "name": "stdout",
     "output_type": "stream",
     "text": [
      "100\n"
     ]
    }
   ],
   "source": [
    "n = 10\n",
    "n *= 10 #複合指定運算子\n",
    "print(n)"
   ]
  },
  {
   "cell_type": "markdown",
   "id": "3ec7c7d7",
   "metadata": {},
   "source": [
    "- 請以(複合指定運算子)設計程式,讓用者輸入三個任意數，程式會顯示3數相加的總和(float)"
   ]
  },
  {
   "cell_type": "code",
   "execution_count": 6,
   "id": "391edea1",
   "metadata": {},
   "outputs": [
    {
     "name": "stdout",
     "output_type": "stream",
     "text": [
      "三數總和為:172.0\n"
     ]
    }
   ],
   "source": [
    "total = 0.0\n",
    "n = float(input(\"請輸入第一個數:\"))\n",
    "total += n\n",
    "n = float(input(\"請輸入第二個數:\"))\n",
    "total += n\n",
    "n = float(input(\"請輸入第三個數:\"))\n",
    "total += n\n",
    "\n",
    "print(f\"三數總和為:{total}\")"
   ]
  }
 ],
 "metadata": {
  "kernelspec": {
   "display_name": "base",
   "language": "python",
   "name": "python3"
  },
  "language_info": {
   "codemirror_mode": {
    "name": "ipython",
    "version": 3
   },
   "file_extension": ".py",
   "mimetype": "text/x-python",
   "name": "python",
   "nbconvert_exporter": "python",
   "pygments_lexer": "ipython3",
   "version": "3.12.7"
  }
 },
 "nbformat": 4,
 "nbformat_minor": 5
}
