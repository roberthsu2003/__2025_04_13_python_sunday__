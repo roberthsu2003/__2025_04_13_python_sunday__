{
 "cells": [
  {
   "cell_type": "markdown",
   "id": "91b76a43",
   "metadata": {},
   "source": [
    "## 這是第3節上課內容"
   ]
  },
  {
   "cell_type": "code",
   "execution_count": 6,
   "id": "fc13d429",
   "metadata": {},
   "outputs": [
    {
     "name": "stdout",
     "output_type": "stream",
     "text": [
      "矩形的寬:345.8 高:245.896 面積是85030.84\n"
     ]
    }
   ],
   "source": [
    "width = 345.8\n",
    "height = 245.896\n",
    "#type(width)\n",
    "#type(height)\n",
    "area = width * height\n",
    "#type(area)\n",
    "print(f\"矩形的寬:{width} 高:{height} 面積是{round(area,ndigits=2)}\")\n"
   ]
  },
  {
   "cell_type": "markdown",
   "id": "bd6f8916",
   "metadata": {},
   "source": [
    "### 重點是`input()`"
   ]
  },
  {
   "cell_type": "code",
   "execution_count": 9,
   "id": "b0766a22",
   "metadata": {},
   "outputs": [
    {
     "data": {
      "text/plain": [
       "float"
      ]
     },
     "execution_count": 9,
     "metadata": {},
     "output_type": "execute_result"
    }
   ],
   "source": [
    "width_input = input(\"請輸入矩形的寬:\")\n",
    "type(width_input)\n",
    "width_value = float(width_input)\n",
    "type(width_value)"
   ]
  },
  {
   "cell_type": "code",
   "execution_count": 11,
   "id": "c5f50dde",
   "metadata": {},
   "outputs": [
    {
     "name": "stdout",
     "output_type": "stream",
     "text": [
      "矩形的寬:34.54 高:33.78 面積是1166.76\n"
     ]
    }
   ],
   "source": [
    "width = float(input(\"請輸入矩形的寬:\"))\n",
    "height = float(input(\"請輸入矩形的高:\"))\n",
    "area = width * height\n",
    "print(f\"矩形的寬:{width} 高:{height} 面積是{round(area,ndigits=2)}\")\n"
   ]
  }
 ],
 "metadata": {
  "kernelspec": {
   "display_name": "base",
   "language": "python",
   "name": "python3"
  },
  "language_info": {
   "codemirror_mode": {
    "name": "ipython",
    "version": 3
   },
   "file_extension": ".py",
   "mimetype": "text/x-python",
   "name": "python",
   "nbconvert_exporter": "python",
   "pygments_lexer": "ipython3",
   "version": "3.12.7"
  }
 },
 "nbformat": 4,
 "nbformat_minor": 5
}
