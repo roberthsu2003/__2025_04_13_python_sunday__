{
 "cells": [
  {
   "cell_type": "code",
   "execution_count": null,
   "id": "d057312c",
   "metadata": {},
   "outputs": [],
   "source": []
  }
 ],
 "metadata": {
  "kernelspec": {
   "display_name": "data_analysis2_4",
   "language": "python",
   "name": "python3"
  },
  "language_info": {
   "name": "python",
   "version": "3.10.18"
  }
 },
 "nbformat": 4,
 "nbformat_minor": 5
}
